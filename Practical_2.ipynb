{
 "cells": [
  {
   "cell_type": "markdown",
   "id": "d68c1dee",
   "metadata": {},
   "source": [
    "# Practical_2: String and files"
   ]
  },
  {
   "cell_type": "markdown",
   "id": "bea983a3",
   "metadata": {},
   "source": [
    "---\n",
    "\n",
    "### Exercise 1:\n",
    "Create a string variable `text` and assign it the value `\"Python is amazing!\"`.\n",
    "\n",
    "```python\n",
    "# Exercise 1\n",
    "```\n",
    "\n",
    "---\n",
    "\n",
    "### Exercise 2:\n",
    "Find the length of the string `\"Hello, World!\"` and store it in a variable `length`.\n",
    "\n",
    "```python\n",
    "# Exercise 2\n",
    "```\n",
    "\n",
    "---\n",
    "\n",
    "### Exercise 3:\n",
    "Convert the string `\"python programming\"` to uppercase and store it in a variable `upper_text`.\n",
    "\n",
    "```python\n",
    "# Exercise 3\n",
    "```\n",
    "\n",
    "---\n",
    "\n",
    "### Exercise 4:\n",
    "Extract the first 5 characters from the string `\"Artificial Intelligence\"`.\n",
    "\n",
    "```python\n",
    "# Exercise 4\n",
    "```\n",
    "\n",
    "---\n",
    "\n",
    "### Exercise 5:\n",
    "Concatenate the strings `\"Hello\"` and `\"World\"` with a space in between.\n",
    "\n",
    "```python\n",
    "# Exercise 5\n",
    "```\n",
    "\n",
    "---\n",
    "\n",
    "### Exercise 6:\n",
    "Replace the word `\"dog\"` with `\"cat\"` in the string `\"The quick brown dog jumps over the lazy dog.\"`.\n",
    "\n",
    "```python\n",
    "# Exercise 6\n",
    "```\n",
    "\n",
    "---\n",
    "\n",
    "### Exercise 7:\n",
    "Split the string `\"apple,banana,orange\"` by commas and store the result in a list `fruits_list`.\n",
    "\n",
    "```python\n",
    "# Exercise 7\n",
    "```\n",
    "\n",
    "---\n",
    "\n",
    "### Exercise 8:\n",
    "Use string formatting to create the sentence `\"My name is Alice and I am 25 years old.\"`, where the name and age are variables.\n",
    "\n",
    "```python\n",
    "# Exercise 8\n",
    "```\n",
    "\n",
    "---\n",
    "\n",
    "### Exercise 9:\n",
    "Check if the string `\"python\"` is present in the sentence `\"I love python programming\"`.\n",
    "\n",
    "```python\n",
    "# Exercise 9\n",
    "```\n",
    "\n",
    "---\n",
    "\n",
    "### Exercise 10:\n",
    "Count the number of occurrences of the letter `\"e\"` in the string `\"Elephant is an elegant animal\"`.\n",
    "\n",
    "```python\n",
    "# Exercise 10\n",
    "```\n",
    "\n",
    "---\n",
    "\n",
    "### Exercise 11:\n",
    "Remove any leading and trailing spaces from the string `\"   Data Science   \"`.\n",
    "\n",
    "```python\n",
    "# Exercise 11\n",
    "```\n",
    "\n",
    "---\n",
    "\n",
    "### Exercise 12:\n",
    "Convert the string `\"100\"` into an integer and store it in a variable `int_value`.\n",
    "\n",
    "```python\n",
    "# Exercise 12\n",
    "```\n",
    "\n",
    "---\n",
    "\n",
    "### Exercise 13:\n",
    "Extract the substring `\"pro\"` from the string `\"programming\"`.\n",
    "\n",
    "```python\n",
    "# Exercise 13\n",
    "```\n",
    "\n",
    "---\n",
    "\n",
    "### Exercise 14:\n",
    "Check if the string `\"data\"` starts with `\"da\"` and ends with `\"ta\"`.\n",
    "\n",
    "```python\n",
    "# Exercise 14\n",
    "```\n",
    "\n",
    "---\n",
    "\n",
    "### Exercise 15:\n",
    "Reverse the string `\"machine learning\"` and store the result in `reversed_text`.\n",
    "\n",
    "```python\n",
    "# Exercise 15\n",
    "```\n",
    "\n",
    "---\n",
    "\n",
    "### Exercise 16:\n",
    "Convert the first letter of each word in the string `\"machine learning is fun\"` to uppercase.\n",
    "\n",
    "```python\n",
    "# Exercise 16\n",
    "```\n",
    "\n",
    "---\n",
    "\n",
    "### Exercise 17:\n",
    "Create a multiline string representing a poem and store it in a variable `poem`.\n",
    "\n",
    "```python\n",
    "# Exercise 17\n",
    "```\n",
    "\n",
    "---\n",
    "\n",
    "### Exercise 18:\n",
    "Write a string to a file named `\"output.txt\"`.\n",
    "\n",
    "```python\n",
    "# Exercise 18\n",
    "```\n",
    "\n",
    "---\n",
    "\n",
    "### Exercise 19:\n",
    "Read the contents of a file named `\"data.txt\"` and print it line by line.\n",
    "\n",
    "```python\n",
    "# Exercise 19\n",
    "```\n",
    "\n",
    "---\n",
    "\n",
    "### Exercise 20:\n",
    "Check if a file `\"example.txt\"` exists before opening it.\n",
    "\n",
    "```python\n",
    "# Exercise 20\n",
    "```\n",
    "\n",
    "---\n",
    "\n",
    "### Exercise 21:\n",
    "Append a new line `\"This is a new line\"` to an existing file `\"notes.txt\"`.\n",
    "\n",
    "```python\n",
    "# Exercise 21\n",
    "```\n",
    "\n",
    "---\n",
    "\n",
    "### Exercise 22:\n",
    "Read the contents of a file `\"log.txt\"` and store each line in a list `log_lines`.\n",
    "\n",
    "```python\n",
    "# Exercise 22\n",
    "```\n",
    "\n",
    "---\n",
    "\n",
    "### Exercise 23:\n",
    "Create a new file `\"report.txt\"` and write the string `\"Data analysis report\"` to it.\n",
    "\n",
    "```python\n",
    "# Exercise 23\n",
    "```\n",
    "\n",
    "---\n",
    "\n",
    "### Exercise 24:\n",
    "Replace the word `\"error\"` with `\"issue\"` in a file `\"log.txt\"`.\n",
    "\n",
    "```python\n",
    "# Exercise 24\n",
    "```\n",
    "\n",
    "---\n",
    "\n",
    "### Exercise 25:\n",
    "Count the number of words in a text file `\"document.txt\"`.\n",
    "\n",
    "```python\n",
    "# Exercise 25\n",
    "```\n",
    "\n",
    "---\n",
    "\n",
    "### Exercise 26:\n",
    "Write a Python script that reads a file `\"essay.txt\"` and prints the total number of lines, words, and characters.\n",
    "\n",
    "```python\n",
    "# Exercise 26\n",
    "```\n",
    "\n",
    "---\n",
    "\n",
    "### Exercise 27:\n",
    "Copy the contents of one file `\"source.txt\"` to another file `\"destination.txt\"`.\n",
    "\n",
    "```python\n",
    "# Exercise 27\n",
    "```\n",
    "\n",
    "---\n",
    "\n",
    "### Exercise 28:\n",
    "Write a Python function that takes a filename as input and returns the number of lines in the file.\n",
    "\n",
    "```python\n",
    "# Exercise 28\n",
    "```\n",
    "\n",
    "---\n",
    "\n",
    "### Exercise 29:\n",
    "Extract all the words from a text file `\"article.txt\"` that contain more than 5 characters.\n",
    "\n",
    "```python\n",
    "# Exercise 29\n",
    "```\n",
    "\n",
    "---\n",
    "\n",
    "### Exercise 30:\n",
    "Convert the contents of a file `\"notes.txt\"` to uppercase and save the result in another file `\"uppercase_notes.txt\"`.\n",
    "\n",
    "```python\n",
    "# Exercise 30\n",
    "```\n",
    "\n",
    "---\n",
    "\n",
    "### Exercise 31:\n",
    "Write a Python script that reads a file and removes all empty lines.\n",
    "\n",
    "```python\n",
    "# Exercise 31\n",
    "```\n",
    "\n",
    "---\n",
    "\n",
    "### Exercise 32:\n",
    "Open a file `\"config.txt\"` in both read and write mode.\n",
    "\n",
    "```python\n",
    "# Exercise 32\n",
    "```\n",
    "\n",
    "---\n",
    "\n",
    "### Exercise 33:\n",
    "Write a Python function that reads a file and prints the longest line in the file.\n",
    "\n",
    "```python\n",
    "# Exercise 33\n",
    "```\n",
    "\n",
    "---\n",
    "\n",
    "### Exercise 34:\n",
    "Write a Python script to count the frequency of each letter in a text file `\"message.txt\"`.\n",
    "\n",
    "```python\n",
    "# Exercise 34\n",
    "```\n",
    "\n",
    "---\n",
    "\n",
    "### Exercise 35:\n",
    "Write a Python script that reads a file and prints the total number of characters, excluding spaces.\n",
    "\n",
    "```python\n",
    "# Exercise 35\n",
    "```\n",
    "\n",
    "---\n",
    "\n",
    "### Exercise 36:\n",
    "Create a Python script to check whether a file is empty or not.\n",
    "\n",
    "```python\n",
    "# Exercise 36\n",
    "```\n",
    "\n",
    "---\n",
    "\n",
    "### Exercise 37:\n",
    "Write a Python function that reads a file and removes all punctuation marks from the text.\n",
    "\n",
    "```python\n",
    "# Exercise 37\n",
    "```\n",
    "\n",
    "---\n",
    "\n",
    "### Exercise 38:\n",
    "Create a Python function that writes a list of strings to a file, each string on a new line.\n",
    "\n",
    "```python\n",
    "# Exercise 38\n",
    "```\n",
    "\n",
    "---\n",
    "\n",
    "### Exercise 39:\n",
    "Write a Python script to count the number of lines that start with a specific letter (e.g., \"A\") in a text file.\n",
    "\n",
    "```python\n",
    "# Exercise 39\n",
    "```\n",
    "\n",
    "---\n",
    "\n",
    "### Exercise 40:\n",
    "Write a Python function that takes a string as input and writes it to a file `\"output.txt\"` in reverse order.\n",
    "\n",
    "```python\n",
    "# Exercise 40\n",
    "```\n",
    "\n",
    "---\n",
    "\n",
    "### Exercise 41:\n",
    "Write a Python script that reads a file and prints all the lines that contain the word `\"Python\"`.\n",
    "\n",
    "```python\n",
    "# Exercise 41\n",
    "```\n",
    "\n",
    "---\n",
    "\n",
    "### Exercise 42:\n",
    "Write a Python script that opens a file and removes all numeric digits from the file's content.\n",
    "\n",
    "```python\n",
    "# Exercise 42\n",
    "```\n",
    "\n",
    "---\n",
    "\n",
    "### Exercise 43:\n",
    "Write a Python script to find the most frequent word in a text file `\"book.txt\"`.\n",
    "\n",
    "```python\n",
    "# Exercise 43\n",
    "```\n",
    "\n",
    "---\n",
    "\n",
    "### Exercise 44:\n",
    "Write a Python script that reads a file and prints all the lines that contain exactly 5 words.\n",
    "\n",
    "```python\n",
    "# Exercise 44\n",
    "```\n",
    "\n",
    "---\n",
    "\n",
    "### Exercise 45:\n",
    "Write a Python script to read a file and print the first and last line of the file.\n",
    "\n",
    "```python\n",
    "# Exercise 45\n",
    "```\n",
    "\n",
    "---\n",
    "\n",
    "### Exercise 46:\n",
    "Write a Python script that checks if a file `\"students.txt\"` is writable.\n",
    "\n",
    "```python\n",
    "# Exercise 46\n",
    "```\n",
    "\n",
    "---\n",
    "\n",
    "### Exercise 47:\n",
    "Create a Python function that opens a file and returns the number of unique words in the file.\n",
    "\n",
    "```python\n",
    "# Exercise 47\n",
    "```\n",
    "\n",
    "---\n",
    "\n",
    "### Exercise 48:\n",
    "Write a Python script that reads a file and prints all lines in reverse order.\n",
    "\n",
    "```python\n",
    "# Exercise 48\n",
    "```\n",
    "\n",
    "---\n",
    "\n",
    "### Exercise 49:\n",
    "Write a Python function that reads a file and returns the most common letter in the text.\n",
    "\n",
    "```python\n",
    "# Exercise 49\n",
    "```\n",
    "\n",
    "---\n",
    "\n",
    "### Exercise 50:\n",
    "Write a Python script that reads a file and replaces every occurrence of `\"Python\"` with `\"Java\"`.\n",
    "\n",
    "```python\n",
    "# Exercise 50\n",
    "```\n",
    "\n",
    "---\n",
    "\n"
   ]
  },
  {
   "cell_type": "code",
   "execution_count": 1,
   "id": "dcf6ca38",
   "metadata": {},
   "outputs": [
    {
     "data": {
      "text/plain": [
       "'Python is amazing!'"
      ]
     },
     "execution_count": 1,
     "metadata": {},
     "output_type": "execute_result"
    }
   ],
   "source": [
    "### Exercise 1:\n",
    "#Create a string variable `text` and assign it the value `\"Python is amazing!\"`.\n",
    "text = \"Python is amazing!\"\n",
    "text"
   ]
  },
  {
   "cell_type": "code",
   "execution_count": 3,
   "id": "caa40e63-649d-499e-a2d2-ce43e2e980ed",
   "metadata": {},
   "outputs": [
    {
     "data": {
      "text/plain": [
       "13"
      ]
     },
     "execution_count": 3,
     "metadata": {},
     "output_type": "execute_result"
    }
   ],
   "source": [
    "### Exercise 2:\n",
    "#Find the length of the string `\"Hello, World!\"` and store it in a variable `length`.\n",
    "length = len('Hello, World!')\n",
    "length"
   ]
  },
  {
   "cell_type": "code",
   "execution_count": 4,
   "id": "a5759f76-4f26-4605-8a03-ccf6c80a9147",
   "metadata": {},
   "outputs": [
    {
     "data": {
      "text/plain": [
       "'PYTHON PROGRAMMING'"
      ]
     },
     "execution_count": 4,
     "metadata": {},
     "output_type": "execute_result"
    }
   ],
   "source": [
    "### Exercise 3:\n",
    "#Convert the string `\"python programming\"` to uppercase and store it in a variable `upper_text`.\n",
    "upper_text = (\"python programming\").upper()\n",
    "upper_text"
   ]
  },
  {
   "cell_type": "code",
   "execution_count": 7,
   "id": "007ca3e0-6c20-4e45-8f12-7f88729cbe1d",
   "metadata": {},
   "outputs": [
    {
     "data": {
      "text/plain": [
       "'Artif'"
      ]
     },
     "execution_count": 7,
     "metadata": {},
     "output_type": "execute_result"
    }
   ],
   "source": [
    "### Exercise 4:\n",
    "#Extract the first 5 characters from the string `\"Artificial Intelligence\"`.\n",
    "word = \"Artificial Intelligence\"\n",
    "word = word[:5]\n",
    "word"
   ]
  },
  {
   "cell_type": "code",
   "execution_count": 9,
   "id": "bfca4911-7d29-4582-aec8-9e3825778db5",
   "metadata": {},
   "outputs": [
    {
     "data": {
      "text/plain": [
       "'Hello World'"
      ]
     },
     "execution_count": 9,
     "metadata": {},
     "output_type": "execute_result"
    }
   ],
   "source": [
    "### Exercise 5:\n",
    "#Concatenate the strings `\"Hello\"` and `\"World\"` with a space in between.\n",
    "concat = 'Hello' +' '+'World'\n",
    "concat "
   ]
  },
  {
   "cell_type": "code",
   "execution_count": 14,
   "id": "40246dde-1a9f-4a14-bc38-76cafc1ba9b1",
   "metadata": {},
   "outputs": [
    {
     "data": {
      "text/plain": [
       "'The quick brown cat jumps over the lazy cat.'"
      ]
     },
     "execution_count": 14,
     "metadata": {},
     "output_type": "execute_result"
    }
   ],
   "source": [
    "### Exercise 6:\n",
    "#Replace the word `\"dog\"` with `\"cat\"` in the string `\"The quick brown dog jumps over the lazy dog.\"`.\n",
    "string = \"The quick brown dog jumps over the lazy dog.\"\n",
    "string = string.replace('dog','cat')\n",
    "string"
   ]
  },
  {
   "cell_type": "code",
   "execution_count": 15,
   "id": "e02637c0-c169-44b3-8d15-c74f08fcd0dc",
   "metadata": {},
   "outputs": [
    {
     "data": {
      "text/plain": [
       "['apple', 'banana', 'orange']"
      ]
     },
     "execution_count": 15,
     "metadata": {},
     "output_type": "execute_result"
    }
   ],
   "source": [
    "### Exercise 7:\n",
    "#Split the string `\"apple,banana,orange\"` by commas and store the result in a list `fruits_list`.\n",
    "# Exercise 7\n",
    "fruits = \"apple,banana,orange\"\n",
    "fruits_list = fruits.split(\",\")\n",
    "fruits_list\n"
   ]
  },
  {
   "cell_type": "code",
   "execution_count": 17,
   "id": "b8806f79-1a0f-40b2-bfbf-26bae49080ed",
   "metadata": {},
   "outputs": [
    {
     "data": {
      "text/plain": [
       "'My name is Alice and i am 25 years old'"
      ]
     },
     "execution_count": 17,
     "metadata": {},
     "output_type": "execute_result"
    }
   ],
   "source": [
    "### Exercise 8:\n",
    "#Use string formatting to create the sentence `\"My name is Alice and I am 25 years old.\"`, where the name and age are variables.\n",
    "name = 'Alice'\n",
    "age = 25\n",
    "result = f\"My name is {name} and i am {age} years old\" \n",
    "result \n"
   ]
  },
  {
   "cell_type": "code",
   "execution_count": 20,
   "id": "53af05fa-e0a6-48c9-bece-9f7355c809ca",
   "metadata": {},
   "outputs": [
    {
     "data": {
      "text/plain": [
       "True"
      ]
     },
     "execution_count": 20,
     "metadata": {},
     "output_type": "execute_result"
    }
   ],
   "source": [
    "### Exercise 9:\n",
    "#Check if the string `\"python\"` is present in the sentence `\"I love python programming\"`.\n",
    "sentence = \"I love python programming\" \n",
    "sentence = 'python' in sentence\n",
    "sentence "
   ]
  },
  {
   "cell_type": "code",
   "execution_count": 23,
   "id": "4ec06b53-0449-49a3-b0ae-277a3c015bf2",
   "metadata": {},
   "outputs": [
    {
     "data": {
      "text/plain": [
       "4"
      ]
     },
     "execution_count": 23,
     "metadata": {},
     "output_type": "execute_result"
    }
   ],
   "source": [
    "### Exercise 10:\n",
    "#Count the number of occurrences of the letter `\"e\"` in the string `\"Elephant is an elegant animal\"`.\n",
    "string = \"Elephant is an elegant animal\" \n",
    "string = string.lower().count('e')\n",
    "string "
   ]
  },
  {
   "cell_type": "code",
   "execution_count": 24,
   "id": "732a141b-ea47-4bc8-be75-89d842a7b476",
   "metadata": {},
   "outputs": [
    {
     "data": {
      "text/plain": [
       "'Data Science'"
      ]
     },
     "execution_count": 24,
     "metadata": {},
     "output_type": "execute_result"
    }
   ],
   "source": [
    "### Exercise 11:\n",
    "#Remove any leading and trailing spaces from the string `\"   Data Science   \"`.\n",
    "text = \"   Data Science   \" \n",
    "text = text.strip() \n",
    "text "
   ]
  },
  {
   "cell_type": "code",
   "execution_count": null,
   "id": "4169c6ce-a19a-4a30-b174-fff2bcaffe27",
   "metadata": {},
   "outputs": [],
   "source": [
    "### Exercise 12:\n",
    "#Convert the string `\"100\"` into an integer and store it in a variable `int_value`.\n",
    "int_value = int('100')\n",
    "int_value "
   ]
  },
  {
   "cell_type": "code",
   "execution_count": 28,
   "id": "d1035f00-162d-4e58-95ee-101e089000e6",
   "metadata": {},
   "outputs": [
    {
     "data": {
      "text/plain": [
       "'pro'"
      ]
     },
     "execution_count": 28,
     "metadata": {},
     "output_type": "execute_result"
    }
   ],
   "source": [
    "### Exercise 13:\n",
    "#Extract the substring `\"pro\"` from the string `\"programming\"`.\n",
    "y = \"programming\"\n",
    "y = y[:3] \n",
    "y"
   ]
  },
  {
   "cell_type": "code",
   "execution_count": 29,
   "id": "1a22c73a-44e9-43ba-902d-a94a2c6ee91c",
   "metadata": {},
   "outputs": [
    {
     "name": "stdout",
     "output_type": "stream",
     "text": [
      "Starts with 'da': True\n",
      "Ends with 'ta': True\n"
     ]
    }
   ],
   "source": [
    "### Exercise 14:\n",
    "#Check if the string `\"data\"` starts with `\"da\"` and ends with `\"ta\"`.\n",
    "word = \"data\"\n",
    "starts_with_da = word.startswith(\"da\")\n",
    "ends_with_ta = word.endswith(\"ta\")\n",
    "\n",
    "print(\"Starts with 'da':\", starts_with_da)\n",
    "print(\"Ends with 'ta':\", ends_with_ta)\n"
   ]
  },
  {
   "cell_type": "code",
   "execution_count": 35,
   "id": "50c6aed7-c269-4aec-9c8e-90950036452b",
   "metadata": {},
   "outputs": [
    {
     "data": {
      "text/plain": [
       "'gninrael enihcam'"
      ]
     },
     "execution_count": 35,
     "metadata": {},
     "output_type": "execute_result"
    }
   ],
   "source": [
    "### Exercise 15:\n",
    "#Reverse the string `\"machine learning\"` and store the result in `reversed_text`.\n",
    "text = \"machine learning\"\n",
    "reversed_text = text[::-1]\n",
    "reversed_text"
   ]
  },
  {
   "cell_type": "code",
   "execution_count": 37,
   "id": "20d19c98-6705-4581-83b0-d5011d6ccbc2",
   "metadata": {},
   "outputs": [
    {
     "data": {
      "text/plain": [
       "'Machine Learning Is Fun'"
      ]
     },
     "execution_count": 37,
     "metadata": {},
     "output_type": "execute_result"
    }
   ],
   "source": [
    "### Exercise 16:\n",
    "#Convert the first letter of each word in the string `\"machine learning is fun\"` to uppercase.\n",
    "sentence = \"machine learning is fun\"\n",
    "sentence = sentence.title()\n",
    "sentence"
   ]
  },
  {
   "cell_type": "code",
   "execution_count": 40,
   "id": "a7a96b7d-4d7e-40fa-b399-abf4e9506575",
   "metadata": {},
   "outputs": [
    {
     "data": {
      "text/plain": [
       "'  \\nRoses are red,  \\nViolets are blue,  \\nPython is fun,  \\nAnd so are you.  \\n'"
      ]
     },
     "execution_count": 40,
     "metadata": {},
     "output_type": "execute_result"
    }
   ],
   "source": [
    "### Exercise 17:\n",
    "#Create a multiline string representing a poem and store it in a variable `poem`.\n",
    "poem = \"\"\"  \n",
    "Roses are red,  \n",
    "Violets are blue,  \n",
    "Python is fun,  \n",
    "And so are you.  \n",
    "\"\"\"\n",
    "poem\n"
   ]
  },
  {
   "cell_type": "code",
   "execution_count": 44,
   "id": "6821d0c3-8682-4167-9ec7-9944eb595f73",
   "metadata": {},
   "outputs": [
    {
     "name": "stdout",
     "output_type": "stream",
     "text": [
      "C:\\Users\\USER\\Documents\\klab\\PHYSICAL\\advanced\\git and github\\Tekher\\TekHer-Python-Basics\n",
      "This is my first line.\n"
     ]
    }
   ],
   "source": [
    "### Exercise 18:\n",
    "#Write a string to a file named `\"output.txt\"`.\n",
    "import os\n",
    "print(os.getcwd())\n",
    "with open(r'C:\\Users\\USER\\Documents\\klab\\PHYSICAL\\advanced\\git and github\\Tekher\\TekHer-Python-Basics\\data\\output.txt', 'r') as file:\n",
    "    content = file.read()\n",
    "print(content)"
   ]
  },
  {
   "cell_type": "code",
   "execution_count": 46,
   "id": "6a3a81ae-e499-4222-a45f-1df4cc446cc1",
   "metadata": {},
   "outputs": [
    {
     "name": "stdout",
     "output_type": "stream",
     "text": [
      "Name,Age,Score\n",
      "Alice,23,85\n",
      "Bob,30,90\n",
      "Charlie,25,88\n",
      "\n"
     ]
    }
   ],
   "source": [
    "### Exercise 19:\n",
    "#Read the contents of a file named `\"data.txt\"` and print it line by line.\n",
    "with open(r'C:\\Users\\USER\\Documents\\klab\\PHYSICAL\\advanced\\git and github\\Tekher\\TekHer-Python-Basics\\data\\data.txt', 'r') as file:\n",
    "    content = file.read()\n",
    "print(content)\n"
   ]
  },
  {
   "cell_type": "code",
   "execution_count": 54,
   "id": "607e125f-44f2-4ded-90f0-8857cdba28b3",
   "metadata": {},
   "outputs": [
    {
     "name": "stdout",
     "output_type": "stream",
     "text": [
      "File exists.\n",
      "This is an example text file used for demonstration.\n",
      "\n"
     ]
    }
   ],
   "source": [
    "### Exercise 20:\n",
    "#Check if a file `\"example.txt\"` exists before opening it.\n",
    "import os\n",
    "\n",
    "file_path = file_path = \"C:/Users/USER/Documents/klab/PHYSICAL/advanced/git and github/Tekher/TekHer-Python-Basics/data/example.txt\"\n",
    "\n",
    "if os.path.exists(file_path):\n",
    "    print(\"File exists.\")\n",
    "else:\n",
    "    print(\"File does not exist.\")\n",
    "\n",
    "\n",
    "with open(r'C:\\Users\\USER\\Documents\\klab\\PHYSICAL\\advanced\\git and github\\Tekher\\TekHer-Python-Basics\\data\\example.txt', 'r') as file:\n",
    "    content = file.read()\n",
    "print(content)"
   ]
  },
  {
   "cell_type": "code",
   "execution_count": 59,
   "id": "2d7bc975-e8f1-453d-921f-7f0d581143b4",
   "metadata": {},
   "outputs": [
    {
     "name": "stdout",
     "output_type": "stream",
     "text": [
      "Python is a versatile language.\n",
      "Great for data analysis.\n",
      "This is my added line.\n"
     ]
    }
   ],
   "source": [
    "### Exercise 21:\n",
    "#Append a new line `\"This is a new line\"` to an existing file `\"notes.txt\"`.\n",
    "with open(r'C:\\Users\\USER\\Documents\\klab\\PHYSICAL\\advanced\\git and github\\Tekher\\TekHer-Python-Basics\\data\\notes.txt', 'r') as file:\n",
    "    content = file.read()\n",
    "print(content)"
   ]
  },
  {
   "cell_type": "code",
   "execution_count": 61,
   "id": "a13c8236-68b6-4d03-8ec9-253a14615a7e",
   "metadata": {},
   "outputs": [
    {
     "name": "stdout",
     "output_type": "stream",
     "text": [
      "2024-05-20 10:00:00 INFO Program started\n",
      "2024-05-20 10:05:00 ERROR Invalid input\n",
      "\n"
     ]
    },
    {
     "data": {
      "text/plain": [
       "['2024-05-20 10:00:00 INFO Program started\\n2024-05-20 10:05:00 ERROR Invalid input\\n']"
      ]
     },
     "execution_count": 61,
     "metadata": {},
     "output_type": "execute_result"
    }
   ],
   "source": [
    "### Exercise 22:\n",
    "#Read the contents of a file `\"log.txt\"` and store each line in a list `log_lines`.\n",
    "with open(r'C:\\Users\\USER\\Documents\\klab\\PHYSICAL\\advanced\\git and github\\Tekher\\TekHer-Python-Basics\\data\\log.txt', 'r') as file:\n",
    "    content = file.read()\n",
    "print(content)\n",
    "log_lines =[content]\n",
    "log_lines"
   ]
  },
  {
   "cell_type": "code",
   "execution_count": 66,
   "id": "93686901-9014-4427-80c1-ea7792891374",
   "metadata": {},
   "outputs": [
    {
     "name": "stdout",
     "output_type": "stream",
     "text": [
      "Data analysis report\n"
     ]
    }
   ],
   "source": [
    "### Exercise 23:\n",
    "#Create a new file `\"report.txt\"` and write the string `\"Data analysis report\"` to it.\n",
    "with open(r'C:\\Users\\USER\\Documents\\klab\\PHYSICAL\\advanced\\git and github\\Tekher\\TekHer-Python-Basics\\data\\reportt.txt', 'r') as file:\n",
    "    content = file.read()\n",
    "print(content)"
   ]
  },
  {
   "cell_type": "code",
   "execution_count": 73,
   "id": "383017eb-07e4-46c6-a437-9ad687620cac",
   "metadata": {},
   "outputs": [
    {
     "name": "stdout",
     "output_type": "stream",
     "text": [
      "2024-05-20 10:00:00 INFO Program started\n",
      "2024-05-20 10:05:00 ISSUE Invalid input\n",
      "\n"
     ]
    }
   ],
   "source": [
    "### Exercise 24:\n",
    "#Replace the word `\"error\"` with `\"issue\"` in a file `\"log.txt\"`.\n",
    "with open(r'C:\\Users\\USER\\Documents\\klab\\PHYSICAL\\advanced\\git and github\\Tekher\\TekHer-Python-Basics\\data\\log.txt', 'r') as file:\n",
    "    content = file.read()\n",
    "    content= content.replace('ERROR','ISSUE')\n",
    "print(content)"
   ]
  },
  {
   "cell_type": "code",
   "execution_count": 78,
   "id": "fdf77b5a-d5e0-4226-92ff-f7e52a61254c",
   "metadata": {},
   "outputs": [
    {
     "name": "stdout",
     "output_type": "stream",
     "text": [
      "76\n"
     ]
    }
   ],
   "source": [
    "### Exercise 25:\n",
    "#Count the number of words in a text file `\"document.txt\"`.\n",
    "with open(r'C:\\Users\\USER\\Documents\\klab\\PHYSICAL\\advanced\\git and github\\Tekher\\TekHer-Python-Basics\\data\\document.txt', 'r') as file:\n",
    "    content = file.read()\n",
    "    content = len(content)\n",
    "print(content)"
   ]
  },
  {
   "cell_type": "code",
   "execution_count": 79,
   "id": "c2315d09-05be-4e8f-a51d-43c36f6338e4",
   "metadata": {},
   "outputs": [
    {
     "name": "stdout",
     "output_type": "stream",
     "text": [
      "Total Lines: 1\n",
      "Total Words: 10\n",
      "Total Characters: 66\n"
     ]
    }
   ],
   "source": [
    "### Exercise 26:\n",
    "#Write a Python script that reads a file `\"essay.txt\"` and prints the total number of lines, words, and characters.\n",
    "def analyze_file(filename):\n",
    "    try:\n",
    "        with open(filename, 'r', encoding='utf-8') as file:\n",
    "            lines = file.readlines()\n",
    "\n",
    "        num_lines = len(lines)\n",
    "        num_words = sum(len(line.split()) for line in lines)\n",
    "        num_chars = sum(len(line) for line in lines)\n",
    "\n",
    "        print(f\"Total Lines: {num_lines}\")\n",
    "        print(f\"Total Words: {num_words}\")\n",
    "        print(f\"Total Characters: {num_chars}\")\n",
    "\n",
    "    except FileNotFoundError:\n",
    "        print(f\"The file '{filename}' does not exist.\")\n",
    "\n",
    "# Run the function with \"essay.txt\"\n",
    "analyze_file(\"C:/Users/USER/Documents/klab/PHYSICAL/advanced/git and github/Tekher/TekHer-Python-Basics/data/essay.txt\")\n"
   ]
  },
  {
   "cell_type": "code",
   "execution_count": 86,
   "id": "d64785ad-8d8b-4726-a23f-55bd19771654",
   "metadata": {},
   "outputs": [
    {
     "name": "stdout",
     "output_type": "stream",
     "text": [
      "Contents copied from 'C:/Users/USER/Documents/klab/PHYSICAL/advanced/git and github/Tekher/TekHer-Python-Basics/data/source.txt' to 'C:/Users/USER/Documents/klab/PHYSICAL/advanced/git and github/Tekher/TekHer-Python-Basics/data/destination.txt' successfully.\n"
     ]
    }
   ],
   "source": [
    "### Exercise 27:\n",
    "#Copy the contents of one file `\"source.txt\"` to another file `\"destination.txt\"`.\n",
    "def copy_file(source, destination):\n",
    "    try:\n",
    "        with open(source, 'r', encoding='utf-8') as src_file:\n",
    "            content = src_file.read()\n",
    "\n",
    "        with open(destination, 'w', encoding='utf-8') as dest_file:\n",
    "            dest_file.write(content)\n",
    "\n",
    "        print(f\"Contents copied from '{source}' to '{destination}' successfully.\")\n",
    "\n",
    "    except FileNotFoundError:\n",
    "        print(f\"The file '{source}' does not exist.\")\n",
    "\n",
    "# Run the function with the specified files\n",
    "copy_file(\"C:/Users/USER/Documents/klab/PHYSICAL/advanced/git and github/Tekher/TekHer-Python-Basics/data/source.txt\",\n",
    "\"C:/Users/USER/Documents/klab/PHYSICAL/advanced/git and github/Tekher/TekHer-Python-Basics/data/destination.txt\")\n"
   ]
  },
  {
   "cell_type": "code",
   "execution_count": 88,
   "id": "c1bcf06a-8a3f-4b3f-bcba-79397ce89779",
   "metadata": {},
   "outputs": [
    {
     "name": "stdout",
     "output_type": "stream",
     "text": [
      "Number of lines: 1\n"
     ]
    }
   ],
   "source": [
    "### Exercise 28:\n",
    "#Write a Python function that takes a filename as input and returns the number of lines in the file.\n",
    "def count_lines(filename):\n",
    "    try:\n",
    "        with open(filename, 'r', encoding='utf-8') as file:\n",
    "            lines = file.readlines()\n",
    "            return len(lines)\n",
    "    except FileNotFoundError:\n",
    "        print(f\"The file '{filename}' does not exist.\")\n",
    "        return 0\n",
    "\n",
    "# Example usage:\n",
    "line_count = count_lines(\"C:/Users/USER/Documents/klab/PHYSICAL/advanced/git and github/Tekher/TekHer-Python-Basics/data/essay.txt\")\n",
    "print(f\"Number of lines: {line_count}\")\n"
   ]
  },
  {
   "cell_type": "code",
   "execution_count": 90,
   "id": "8b00d621-e367-4c74-81bc-2b6e915b4252",
   "metadata": {},
   "outputs": [
    {
     "name": "stdout",
     "output_type": "stream",
     "text": [
      "Words with more than 5 characters:\n",
      "sample\n",
      "article\n",
      "applications.\n",
      "multiple\n",
      "lines.\n"
     ]
    }
   ],
   "source": [
    "### Exercise 29:\n",
    "#Extract all the words from a text file `\"article.txt\"` that contain more than 5 characters.\n",
    "def extract_long_words(filename):\n",
    "    try:\n",
    "        with open(filename, 'r', encoding='utf-8') as file:\n",
    "            content = file.read()\n",
    "\n",
    "        words = content.split()\n",
    "        long_words = [word for word in words if len(word) > 5]\n",
    "\n",
    "        print(\"Words with more than 5 characters:\")\n",
    "        for word in long_words:\n",
    "            print(word)\n",
    "\n",
    "    except FileNotFoundError:\n",
    "        print(f\"The file '{filename}' does not exist.\")\n",
    "\n",
    "# Example usage\n",
    "extract_long_words(\"C:/Users/USER/Documents/klab/PHYSICAL/advanced/git and github/Tekher/TekHer-Python-Basics/data/article.txt\")\n"
   ]
  },
  {
   "cell_type": "code",
   "execution_count": 92,
   "id": "e8fb1e04-6178-47d8-8d30-4ff59b68f6dc",
   "metadata": {},
   "outputs": [
    {
     "name": "stdout",
     "output_type": "stream",
     "text": [
      "Contents from 'C:/Users/USER/Documents/klab/PHYSICAL/advanced/git and github/Tekher/TekHer-Python-Basics/data/notes.txt' converted to uppercase and saved in 'C:/Users/USER/Documents/klab/PHYSICAL/advanced/git and github/Tekher/TekHer-Python-Basics/data/uppercase_notes.txt'.\n"
     ]
    }
   ],
   "source": [
    "### Exercise 30:\n",
    "#Convert the contents of a file `\"notes.txt\"` to uppercase and save the result in another file `\"uppercase_notes.txt\"`.\n",
    "def convert_to_uppercase(source, destination):\n",
    "    try:\n",
    "        with open(source, 'r', encoding='utf-8') as src_file:\n",
    "            content = src_file.read()\n",
    "\n",
    "        uppercase_content = content.upper()\n",
    "\n",
    "        with open(destination, 'w', encoding='utf-8') as dest_file:\n",
    "            dest_file.write(uppercase_content)\n",
    "\n",
    "        print(f\"Contents from '{source}' converted to uppercase and saved in '{destination}'.\")\n",
    "\n",
    "    except FileNotFoundError:\n",
    "        print(f\"The file '{source}' does not exist.\")\n",
    "\n",
    "# Example usage\n",
    "convert_to_uppercase(\"C:/Users/USER/Documents/klab/PHYSICAL/advanced/git and github/Tekher/TekHer-Python-Basics/data/notes.txt\",\n",
    "\"C:/Users/USER/Documents/klab/PHYSICAL/advanced/git and github/Tekher/TekHer-Python-Basics/data/uppercase_notes.txt\")\n"
   ]
  },
  {
   "cell_type": "code",
   "execution_count": 130,
   "id": "2d310d65-8b9d-4aa6-8b56-31919735f5c5",
   "metadata": {},
   "outputs": [
    {
     "name": "stdout",
     "output_type": "stream",
     "text": [
      "Empty lines removed. Cleaned content saved in 'C:/Users/USER/Documents/klab/PHYSICAL/advanced/git and github/Tekher/TekHer-Python-Basics/data/input.txt'.\n"
     ]
    }
   ],
   "source": [
    "### Exercise 31:\n",
    "#Write a Python script that reads a file and removes all empty lines.\n",
    "def remove_empty_lines_alt(input_file, output_file=None):\n",
    "    try:\n",
    "        target_file = output_file if output_file else input_file\n",
    "        with open(input_file, 'r', encoding='utf-8') as infile, \\\n",
    "             open(target_file, 'w', encoding='utf-8') as outfile:\n",
    "            for line in infile:\n",
    "                if line.strip():                                 # Only write lines that are not empty or whitespace\n",
    "                    outfile.write(line)\n",
    "\n",
    "        print(f\"Empty lines removed. Cleaned content saved in '{target_file}'.\")\n",
    "    except FileNotFoundError:\n",
    "        print(f\"The file '{input_file}' does not exist.\")\n",
    "\n",
    "# Example usage:\n",
    "remove_empty_lines_alt(\"C:/Users/USER/Documents/klab/PHYSICAL/advanced/git and github/Tekher/TekHer-Python-Basics/data/input.txt\")                                  # overwrites input.txt\n",
    "# or\n",
    "# remove_empty_lines_alt(\"input.txt\", \"cleaned_output.txt\")         # saves to new file\n"
   ]
  },
  {
   "cell_type": "code",
   "execution_count": 95,
   "id": "171a63fc-dac9-4a54-9240-68d6cba36d46",
   "metadata": {},
   "outputs": [
    {
     "name": "stdout",
     "output_type": "stream",
     "text": [
      "The file 'config.txt' does not exist.\n"
     ]
    }
   ],
   "source": [
    "### Exercise 32:\n",
    "#Open a file `\"config.txt\"` in both read and write mode.\n",
    "try:\n",
    "    with open(\"config.txt\", \"r+\", encoding=\"utf-8\") as file:\n",
    "        # You can read from the file\n",
    "        content = file.read()\n",
    "        print(\"Current content:\")\n",
    "        print(content)\n",
    "\n",
    "        # Move the cursor to the beginning or desired position to write\n",
    "        file.seek(0)\n",
    "\n",
    "        # Write something (this will overwrite from the start)\n",
    "        file.write(\"Updated configuration\\n\")\n",
    "\n",
    "        # If you want to append instead, move the cursor to the end:\n",
    "        # file.seek(0, 2)  # Move to the end of the file\n",
    "        # file.write(\"Additional configuration\\n\")\n",
    "\n",
    "except FileNotFoundError:\n",
    "    print(\"The file 'config.txt' does not exist.\")\n"
   ]
  },
  {
   "cell_type": "code",
   "execution_count": 96,
   "id": "38c356ca-c5e4-45ab-9266-f81d5827f415",
   "metadata": {},
   "outputs": [
    {
     "name": "stdout",
     "output_type": "stream",
     "text": [
      "The file 'example.txt' does not exist.\n"
     ]
    }
   ],
   "source": [
    "### Exercise 33:\n",
    "#Write a Python function that reads a file and prints the longest line in the file.\n",
    "def print_longest_line(filename):\n",
    "    try:\n",
    "        with open(filename, 'r', encoding='utf-8') as file:\n",
    "            longest_line = \"\"\n",
    "            for line in file:\n",
    "                if len(line) > len(longest_line):\n",
    "                    longest_line = line\n",
    "\n",
    "        print(\"Longest line in the file:\")\n",
    "        print(longest_line.rstrip())  # rstrip to remove trailing newline\n",
    "\n",
    "    except FileNotFoundError:\n",
    "        print(f\"The file '{filename}' does not exist.\")\n",
    "\n",
    "# Example usage:\n",
    "print_longest_line(\"example.txt\")\n"
   ]
  },
  {
   "cell_type": "code",
   "execution_count": 98,
   "id": "20da65d1-dc72-442f-a466-57b86a0b8e2f",
   "metadata": {},
   "outputs": [
    {
     "name": "stdout",
     "output_type": "stream",
     "text": [
      "Letter frequencies:\n",
      "a: 2\n",
      "e: 6\n",
      "f: 1\n",
      "g: 1\n",
      "h: 3\n",
      "i: 3\n",
      "l: 3\n",
      "m: 1\n",
      "o: 1\n",
      "r: 1\n",
      "s: 4\n",
      "t: 2\n"
     ]
    }
   ],
   "source": [
    "### Exercise 34:\n",
    "#Write a Python script to count the frequency of each letter in a text file `\"message.txt\"`.\n",
    "from collections import Counter\n",
    "import string\n",
    "\n",
    "def count_letter_frequency(filename):\n",
    "    try:\n",
    "        with open(filename, 'r', encoding='utf-8') as file:\n",
    "            content = file.read().lower()  # Convert to lowercase for uniform counting\n",
    "\n",
    "        # Filter only alphabetic characters\n",
    "        letters_only = [ch for ch in content if ch in string.ascii_lowercase]\n",
    "\n",
    "        frequency = Counter(letters_only)\n",
    "\n",
    "        print(\"Letter frequencies:\")\n",
    "        for letter, count in sorted(frequency.items()):\n",
    "            print(f\"{letter}: {count}\")\n",
    "\n",
    "    except FileNotFoundError:\n",
    "        print(f\"The file '{filename}' does not exist.\")\n",
    "\n",
    "# Example usage\n",
    "count_letter_frequency(\"C:/Users/USER/Documents/klab/PHYSICAL/advanced/git and github/Tekher/TekHer-Python-Basics/data/message.txt\")\n"
   ]
  },
  {
   "cell_type": "code",
   "execution_count": 129,
   "id": "5c4d55ad-5375-49f2-96b1-86650d38034a",
   "metadata": {},
   "outputs": [
    {
     "name": "stdout",
     "output_type": "stream",
     "text": [
      "Total characters (excluding spaces): 590\n"
     ]
    }
   ],
   "source": [
    "### Exercise 35:\n",
    "#Write a Python script that reads a file and prints the total number of characters, excluding spaces.\n",
    "def count_chars_excluding_spaces(filename):\n",
    "    try:\n",
    "        with open(filename, 'r', encoding='utf-8') as file:\n",
    "            content = file.read()\n",
    "\n",
    "        # Remove all spaces from the content\n",
    "        content_no_spaces = content.replace(\" \", \"\")\n",
    "\n",
    "        # Count characters excluding spaces\n",
    "        total_chars = len(content_no_spaces)\n",
    "\n",
    "        print(f\"Total characters (excluding spaces): {total_chars}\")\n",
    "\n",
    "    except FileNotFoundError:\n",
    "        print(f\"The file '{filename}' does not exist.\")\n",
    "\n",
    "# Example usage:\n",
    "count_chars_excluding_spaces(\"C:/Users/USER/Documents/klab/PHYSICAL/advanced/git and github/Tekher/TekHer-Python-Basics/data/input.txt\")\n"
   ]
  },
  {
   "cell_type": "code",
   "execution_count": 101,
   "id": "06fb0bc3-4393-4aa4-a771-eece2188ea63",
   "metadata": {},
   "outputs": [
    {
     "name": "stdout",
     "output_type": "stream",
     "text": [
      "The file 'test.txt' does not exist.\n"
     ]
    }
   ],
   "source": [
    "### Exercise 36:\n",
    "#Create a Python script to check whether a file is empty or not.\n",
    "import os\n",
    "\n",
    "def is_file_empty(filename):\n",
    "    try:\n",
    "        # Check file size using os.path.getsize()\n",
    "        if os.path.getsize(filename) == 0:\n",
    "            print(f\"The file '{filename}' is empty.\")\n",
    "            return True\n",
    "        else:\n",
    "            print(f\"The file '{filename}' is not empty.\")\n",
    "            return False\n",
    "    except FileNotFoundError:\n",
    "        print(f\"The file '{filename}' does not exist.\")\n",
    "        return None\n",
    "\n",
    "# Example usage:\n",
    "is_file_empty(\"test.txt\")\n"
   ]
  },
  {
   "cell_type": "code",
   "execution_count": 128,
   "id": "93dc0637-e5f8-43ac-ba97-ce5de377af06",
   "metadata": {},
   "outputs": [
    {
     "name": "stdout",
     "output_type": "stream",
     "text": [
      "Punctuation removed and cleaned text saved to 'cleaned_output.txt'.\n"
     ]
    }
   ],
   "source": [
    "### Exercise 37:\n",
    "#Write a Python function that reads a file and removes all punctuation marks from the text.\n",
    "import string\n",
    "\n",
    "def remove_punctuation(filename, output_file=None):\n",
    "    try:\n",
    "        with open(filename, 'r', encoding='utf-8') as file:\n",
    "            text = file.read()\n",
    "\n",
    "        # Create a translation table that maps punctuation to None\n",
    "        translator = str.maketrans('', '', string.punctuation)\n",
    "        cleaned_text = text.translate(translator)\n",
    "\n",
    "        if output_file:\n",
    "            with open(output_file, 'w', encoding='utf-8') as file:\n",
    "                file.write(cleaned_text)\n",
    "            print(f\"Punctuation removed and cleaned text saved to '{output_file}'.\")\n",
    "        else:\n",
    "            print(\"Text with punctuation removed:\")\n",
    "            print(cleaned_text)\n",
    "            return cleaned_text\n",
    "\n",
    "    except FileNotFoundError:\n",
    "        print(f\"The file '{filename}' does not exist.\")\n",
    "\n",
    "# Example usage:\n",
    "remove_punctuation(\"input.txt\", \"cleaned_output.txt\")\n",
    "# Or just print without saving:\n",
    "# remove_punctuation(\"input.txt\")\n"
   ]
  },
  {
   "cell_type": "code",
   "execution_count": 103,
   "id": "93b73854-5ebd-43e7-b101-b65d258ea9e5",
   "metadata": {},
   "outputs": [
    {
     "name": "stdout",
     "output_type": "stream",
     "text": [
      "List written to 'output.txt' successfully.\n"
     ]
    }
   ],
   "source": [
    "### Exercise 38:\n",
    "#Create a Python function that writes a list of strings to a file, each string on a new line.\n",
    "def write_list_to_file(strings, filename):\n",
    "    try:\n",
    "        with open(filename, 'w', encoding='utf-8') as file:\n",
    "            for line in strings:\n",
    "                file.write(line + '\\n')\n",
    "        print(f\"List written to '{filename}' successfully.\")\n",
    "    except Exception as e:\n",
    "        print(f\"An error occurred: {e}\")\n",
    "\n",
    "# Example usage:\n",
    "my_list = [\"First line\", \"Second line\", \"Third line\"]\n",
    "write_list_to_file(my_list, \"output.txt\")\n"
   ]
  },
  {
   "cell_type": "code",
   "execution_count": 127,
   "id": "1345d7b0-b297-4221-ae1d-7f3114005a1d",
   "metadata": {},
   "outputs": [
    {
     "name": "stdout",
     "output_type": "stream",
     "text": [
      "Number of lines starting with 'A': 2\n"
     ]
    }
   ],
   "source": [
    "### Exercise 39:\n",
    "#Write a Python script to count the number of lines that start with a specific letter (e.g., \"A\") in a text file.\n",
    "def count_lines_starting_with(filename, letter):\n",
    "    try:\n",
    "        count = 0\n",
    "        with open(filename, 'r', encoding='utf-8') as file:\n",
    "            for line in file:\n",
    "                # Strip leading whitespace and check if line starts with the letter (case-insensitive)\n",
    "                if line.lstrip().startswith(letter):\n",
    "                    count += 1\n",
    "        print(f\"Number of lines starting with '{letter}': {count}\")\n",
    "    except FileNotFoundError:\n",
    "        print(f\"The file '{filename}' does not exist.\")\n",
    "\n",
    "# Example usage:\n",
    "count_lines_starting_with(\"input.txt\", \"A\")\n",
    "\n"
   ]
  },
  {
   "cell_type": "code",
   "execution_count": 105,
   "id": "8210a515-4dd6-4640-b8df-b253c4bafc54",
   "metadata": {},
   "outputs": [
    {
     "name": "stdout",
     "output_type": "stream",
     "text": [
      "Reversed text written to 'output.txt'.\n"
     ]
    }
   ],
   "source": [
    "### Exercise 40:\n",
    "#Write a Python function that takes a string as input and writes it to a file `\"output.txt\"` in reverse order.\n",
    "def write_reverse_to_file(text):\n",
    "    reversed_text = text[::-1]  # Reverse the string\n",
    "    try:\n",
    "        with open(\"output.txt\", \"w\", encoding=\"utf-8\") as file:\n",
    "            file.write(reversed_text)\n",
    "        print(\"Reversed text written to 'output.txt'.\")\n",
    "    except Exception as e:\n",
    "        print(f\"An error occurred: {e}\")\n",
    "\n",
    "# Example usage:\n",
    "write_reverse_to_file(\"Hello, world!\")\n"
   ]
  },
  {
   "cell_type": "code",
   "execution_count": 126,
   "id": "dc2e3534-c928-4eaa-86b0-b6903a566e7a",
   "metadata": {},
   "outputs": [],
   "source": [
    "### Exercise 41:\n",
    "#Write a Python script that reads a file and prints all the lines that contain the word `\"Python\"`.\n",
    "def print_lines_with_word(filename, word=\"Python\"):\n",
    "    try:\n",
    "        with open(filename, 'r', encoding='utf-8') as file:\n",
    "            for line in file:\n",
    "                if word in line:\n",
    "                    print(line.rstrip())  # rstrip to remove trailing newline\n",
    "    except FileNotFoundError:\n",
    "        print(f\"The file '{filename}' does not exist.\")\n",
    "\n",
    "# Example usage:\n",
    "print_lines_with_word(\"C:/Users/USER/Documents/klab/PHYSICAL/advanced/git and github/Tekher/TekHer-Python-Basics/data/input.txt\")\n"
   ]
  },
  {
   "cell_type": "code",
   "execution_count": 124,
   "id": "3b8ffb3b-5ba6-4e69-b49c-9cf8361f4c5b",
   "metadata": {},
   "outputs": [
    {
     "name": "stdout",
     "output_type": "stream",
     "text": [
      "Digits removed and content saved to 'C:/Users/USER/Documents/klab/PHYSICAL/advanced/git and github/Tekher/TekHer-Python-Basics/data/input.txt'.\n"
     ]
    }
   ],
   "source": [
    "### Exercise 42:\n",
    "#Write a Python script that opens a file and removes all numeric digits from the file's content.\n",
    "import re\n",
    "\n",
    "def remove_digits(filename, output_file=None):\n",
    "    try:\n",
    "        with open(filename, 'r', encoding='utf-8') as file:\n",
    "            content = file.read()\n",
    "\n",
    "        # Remove all digits using regex\n",
    "        cleaned_content = re.sub(r'\\d', '', content)\n",
    "\n",
    "        target_file = output_file if output_file else filename\n",
    "        with open(target_file, 'w', encoding='utf-8') as file:\n",
    "            file.write(cleaned_content)\n",
    "\n",
    "        print(f\"Digits removed and content saved to '{target_file}'.\")\n",
    "\n",
    "    except FileNotFoundError:\n",
    "        print(f\"The file '{filename}' does not exist.\")\n",
    "\n",
    "# Example usage:\n",
    "remove_digits(\"C:/Users/USER/Documents/klab/PHYSICAL/advanced/git and github/Tekher/TekHer-Python-Basics/data/input.txt\")  # overwrites the same file\n",
    "# or\n",
    "# remove_digits(\"input.txt\", \"cleaned_output.txt\")  # saves to new file\n"
   ]
  },
  {
   "cell_type": "code",
   "execution_count": 107,
   "id": "920ce136-7b7a-4749-94f3-48ea8c00b3c1",
   "metadata": {},
   "outputs": [
    {
     "name": "stdout",
     "output_type": "stream",
     "text": [
      "The file 'book.txt' does not exist.\n"
     ]
    }
   ],
   "source": [
    "### Exercise 43:\n",
    "#Write a Python script to find the most frequent word in a text file `\"book.txt\"`.\n",
    "from collections import Counter\n",
    "import string\n",
    "\n",
    "def most_frequent_word(filename):\n",
    "    try:\n",
    "        with open(filename, 'r', encoding='utf-8') as file:\n",
    "            text = file.read().lower()  # Convert to lowercase for uniformity\n",
    "\n",
    "        # Remove punctuation\n",
    "        for punct in string.punctuation:\n",
    "            text = text.replace(punct, \"\")\n",
    "\n",
    "        words = text.split()\n",
    "        if not words:\n",
    "            print(\"The file is empty or contains no words.\")\n",
    "            return\n",
    "\n",
    "        word_counts = Counter(words)\n",
    "        most_common_word, frequency = word_counts.most_common(1)[0]\n",
    "\n",
    "        print(f\"The most frequent word is '{most_common_word}' with {frequency} occurrences.\")\n",
    "\n",
    "    except FileNotFoundError:\n",
    "        print(f\"The file '{filename}' does not exist.\")\n",
    "\n",
    "# Example usage:\n",
    "most_frequent_word(\"book.txt\")\n"
   ]
  },
  {
   "cell_type": "code",
   "execution_count": 123,
   "id": "e41f3823-bc75-489c-852d-1a1831ad1812",
   "metadata": {},
   "outputs": [],
   "source": [
    "### Exercise 44:\n",
    "#Write a Python script that reads a file and prints all the lines that contain exactly 5 words.\n",
    "def print_lines_with_five_words(filename):\n",
    "    try:\n",
    "        with open(filename, 'r', encoding='utf-8') as file:\n",
    "            for line in file:\n",
    "                words = line.split()\n",
    "                if len(words) == 5:\n",
    "                    print(line.rstrip())\n",
    "    except FileNotFoundError:\n",
    "        print(f\"The file '{filename}' does not exist.\")\n",
    "\n",
    "# Example usage:\n",
    "print_lines_with_five_words(\"C:/Users/USER/Documents/klab/PHYSICAL/advanced/git and github/Tekher/TekHer-Python-Basics/data/input.txt\")\n"
   ]
  },
  {
   "cell_type": "code",
   "execution_count": 121,
   "id": "a7be410f-7ac1-419b-82ca-4272cced6bb7",
   "metadata": {},
   "outputs": [
    {
     "name": "stdout",
     "output_type": "stream",
     "text": [
      "First line:\n",
      "Java is an amazing programming language.\n",
      "\n",
      "Last line:\n",
      "Last line here.\n"
     ]
    }
   ],
   "source": [
    "### Exercise 45:\n",
    "#Write a Python script to read a file and print the first and last line of the file.\n",
    "def print_first_and_last_line(filename):\n",
    "    try:\n",
    "        with open(filename, 'r', encoding='utf-8') as file:\n",
    "            lines = file.readlines()\n",
    "            \n",
    "            if not lines:\n",
    "                print(\"The file is empty.\")\n",
    "                return\n",
    "\n",
    "            first_line = lines[0].rstrip()\n",
    "            last_line = lines[-1].rstrip()\n",
    "\n",
    "            print(\"First line:\")\n",
    "            print(first_line)\n",
    "            print(\"\\nLast line:\")\n",
    "            print(last_line)\n",
    "\n",
    "    except FileNotFoundError:\n",
    "        print(f\"The file '{filename}' does not exist.\")\n",
    "\n",
    "# Example usage:\n",
    "print_first_and_last_line(\"C:/Users/USER/Documents/klab/PHYSICAL/advanced/git and github/Tekher/TekHer-Python-Basics/data/input.txt\")\n"
   ]
  },
  {
   "cell_type": "code",
   "execution_count": 111,
   "id": "eeee8394-8a52-468c-a9cf-9b69c12c2a9f",
   "metadata": {},
   "outputs": [
    {
     "name": "stdout",
     "output_type": "stream",
     "text": [
      "The file 'students.txt' does not exist but can be created.\n"
     ]
    },
    {
     "data": {
      "text/plain": [
       "True"
      ]
     },
     "execution_count": 111,
     "metadata": {},
     "output_type": "execute_result"
    }
   ],
   "source": [
    "### Exercise 46:\n",
    "#Write a Python script that checks if a file `\"students.txt\"` is writable.\n",
    "import os\n",
    "\n",
    "def is_file_writable(filename):\n",
    "    # Check if file exists and is writable, or if the file can be created in the directory\n",
    "    if os.path.exists(filename):\n",
    "        writable = os.access(filename, os.W_OK)\n",
    "        if writable:\n",
    "            print(f\"The file '{filename}' is writable.\")\n",
    "        else:\n",
    "            print(f\"The file '{filename}' is not writable.\")\n",
    "        return writable\n",
    "    else:\n",
    "        # If file doesn't exist, check if directory is writable to create the file\n",
    "        dir_name = os.path.dirname(filename) or '.'\n",
    "        if os.access(dir_name, os.W_OK):\n",
    "            print(f\"The file '{filename}' does not exist but can be created.\")\n",
    "            return True\n",
    "        else:\n",
    "            print(f\"The file '{filename}' does not exist and cannot be created (directory not writable).\")\n",
    "            return False\n",
    "\n",
    "# Example usage:\n",
    "is_file_writable(\"students.txt\")\n"
   ]
  },
  {
   "cell_type": "code",
   "execution_count": 120,
   "id": "dd625175-3b87-4c7c-b1a9-1315f3615a76",
   "metadata": {},
   "outputs": [
    {
     "name": "stdout",
     "output_type": "stream",
     "text": [
      "Number of unique words: 71\n"
     ]
    }
   ],
   "source": [
    "### Exercise 47:\n",
    "#Create a Python function that opens a file and returns the number of unique words in the file.\n",
    "import string\n",
    "\n",
    "def count_unique_words(filename):\n",
    "    try:\n",
    "        with open(filename, 'r', encoding='utf-8') as file:\n",
    "            text = file.read().lower()\n",
    "\n",
    "        # Remove punctuation\n",
    "        translator = str.maketrans('', '', string.punctuation)\n",
    "        cleaned_text = text.translate(translator)\n",
    "\n",
    "        words = cleaned_text.split()\n",
    "        unique_words = set(words)\n",
    "\n",
    "        return len(unique_words)\n",
    "\n",
    "    except FileNotFoundError:\n",
    "        print(f\"The file '{filename}' does not exist.\")\n",
    "        return 0\n",
    "\n",
    "# Example usage:\n",
    "unique_count = count_unique_words(\"C:/Users/USER/Documents/klab/PHYSICAL/advanced/git and github/Tekher/TekHer-Python-Basics/data/input.txt\")\n",
    "print(f\"Number of unique words: {unique_count}\")\n"
   ]
  },
  {
   "cell_type": "code",
   "execution_count": 119,
   "id": "07394105-0444-491c-9c61-5e8312fc9ab9",
   "metadata": {},
   "outputs": [
    {
     "name": "stdout",
     "output_type": "stream",
     "text": [
      "Last line here.\n",
      "\n",
      "Reversing text is fun.\n",
      "Spaces and punctuation should be carefully removed.\n",
      "\n",
      "The longest line in this file might be this one, because it has many words and characters!\n",
      "Short line.\n",
      "This line contains digits 4567 and symbols #!$%.\n",
      "Java, Java, Java! How popular is Java?\n",
      "\n",
      "And another Awesome line with Java!\n",
      "Another line that starts with A.\n",
      "Here is a line with exactly five words.\n",
      "\n",
      "\n",
      "Empty lines should be handled properly.\n",
      "123 numbers should be removed from this line.\n",
      "\n",
      "The Java community is very active.\n",
      "Many developers love Java for its simplicity and readability.\n",
      "\n",
      "It is widely used in web development, data science, automation, and more.\n",
      "Java is an amazing programming language.\n"
     ]
    }
   ],
   "source": [
    "### Exercise 48:\n",
    "#Write a Python script that reads a file and prints all lines in reverse order.\n",
    "def print_lines_in_reverse(filename):\n",
    "    try:\n",
    "        with open(filename, 'r', encoding='utf-8') as file:\n",
    "            lines = file.readlines()\n",
    "        \n",
    "        # Print lines from last to first\n",
    "        for line in reversed(lines):\n",
    "            print(line.rstrip())\n",
    "\n",
    "    except FileNotFoundError:\n",
    "        print(f\"The file '{filename}' does not exist.\")\n",
    "\n",
    "# Example usage:\n",
    "print_lines_in_reverse(\"C:/Users/USER/Documents/klab/PHYSICAL/advanced/git and github/Tekher/TekHer-Python-Basics/data/input.txt\")\n"
   ]
  },
  {
   "cell_type": "code",
   "execution_count": 117,
   "id": "b0468716-4b9a-44d2-b2a5-21a255ebfa59",
   "metadata": {},
   "outputs": [
    {
     "name": "stdout",
     "output_type": "stream",
     "text": [
      "The most common letter is 'e' with 61 occurrences.\n"
     ]
    }
   ],
   "source": [
    "### Exercise 49:\n",
    "#Write a Python function that reads a file and returns the most common letter in the text.\n",
    "from collections import Counter\n",
    "import string\n",
    "\n",
    "def most_common_letter(filename):\n",
    "    try:\n",
    "        with open(filename, 'r', encoding='utf-8') as file:\n",
    "            text = file.read().lower()\n",
    "\n",
    "        # Filter only letters a-z\n",
    "        letters = [ch for ch in text if ch in string.ascii_lowercase]\n",
    "\n",
    "        if not letters:\n",
    "            return None  # No letters found\n",
    "\n",
    "        counter = Counter(letters)\n",
    "        most_common = counter.most_common(1)[0]  # (letter, count)\n",
    "\n",
    "        return most_common\n",
    "\n",
    "    except FileNotFoundError:\n",
    "        print(f\"The file '{filename}' does not exist.\")\n",
    "        return None\n",
    "\n",
    "# Example usage:\n",
    "result = most_common_letter(\"C:/Users/USER/Documents/klab/PHYSICAL/advanced/git and github/Tekher/TekHer-Python-Basics/data/input.txt\")\n",
    "if result:\n",
    "    letter, count = result\n",
    "    print(f\"The most common letter is '{letter}' with {count} occurrences.\")\n",
    "else:\n",
    "    print(\"No letters found or file missing.\")\n"
   ]
  },
  {
   "cell_type": "code",
   "execution_count": 116,
   "id": "fc92f798-c07c-450d-a920-4a8c00b418e1",
   "metadata": {},
   "outputs": [
    {
     "name": "stdout",
     "output_type": "stream",
     "text": [
      "All occurrences of 'Python' replaced with 'Java' in 'C:/Users/USER/Documents/klab/PHYSICAL/advanced/git and github/Tekher/TekHer-Python-Basics/data/input.txt'.\n"
     ]
    }
   ],
   "source": [
    "### Exercise 50:\n",
    "#Write a Python script that reads a file and replaces every occurrence of `\"Python\"` with `\"Java\"`.\n",
    "def replace_python_with_java(filename):\n",
    "    try:\n",
    "        with open(filename, 'r', encoding='utf-8') as file:\n",
    "            content = file.read()\n",
    "\n",
    "        updated_content = content.replace(\"Python\", \"Java\")\n",
    "\n",
    "        with open(filename, 'w', encoding='utf-8') as file:\n",
    "            file.write(updated_content)\n",
    "\n",
    "        print(f\"All occurrences of 'Python' replaced with 'Java' in '{filename}'.\")\n",
    "\n",
    "    except FileNotFoundError:\n",
    "        print(f\"The file '{filename}' does not exist.\")\n",
    "\n",
    "# Example usage:\n",
    "replace_python_with_java(\"C:/Users/USER/Documents/klab/PHYSICAL/advanced/git and github/Tekher/TekHer-Python-Basics/data/input.txt\")\n"
   ]
  },
  {
   "cell_type": "code",
   "execution_count": null,
   "id": "696ce5b9-9edc-4ecc-965d-cc5c93f64e08",
   "metadata": {},
   "outputs": [],
   "source": []
  },
  {
   "cell_type": "code",
   "execution_count": null,
   "id": "b52576f5-10db-4405-a7ef-c70a28ea28f3",
   "metadata": {},
   "outputs": [],
   "source": []
  }
 ],
 "metadata": {
  "kernelspec": {
   "display_name": "Python 3 (ipykernel)",
   "language": "python",
   "name": "python3"
  },
  "language_info": {
   "codemirror_mode": {
    "name": "ipython",
    "version": 3
   },
   "file_extension": ".py",
   "mimetype": "text/x-python",
   "name": "python",
   "nbconvert_exporter": "python",
   "pygments_lexer": "ipython3",
   "version": "3.11.7"
  }
 },
 "nbformat": 4,
 "nbformat_minor": 5
}
