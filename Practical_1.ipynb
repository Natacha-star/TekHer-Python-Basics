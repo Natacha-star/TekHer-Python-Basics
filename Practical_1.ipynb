{
 "cells": [
  {
   "cell_type": "markdown",
   "id": "426486dd",
   "metadata": {},
   "source": [
    "# Practical_1: Variables and Assignments"
   ]
  },
  {
   "cell_type": "code",
   "execution_count": null,
   "id": "05d75efd-e1d6-4de4-9f6e-d4602cf1ca04",
   "metadata": {},
   "outputs": [],
   "source": []
  },
  {
   "cell_type": "markdown",
   "id": "f7e29566-5126-4dd3-86e4-9a13ede7cc0e",
   "metadata": {},
   "source": [
    "----\n",
    "\n",
    "### Exercise 1:\n",
    "Declare a variable `x` and assign it the value `10`.\n",
    "\n",
    "```python\n",
    "# Exercise 1\n",
    "```\n",
    "\n",
    "---\n",
    "\n",
    "### Exercise 2:\n",
    "Assign the value `True` to a variable called `is_valid`.\n",
    "\n",
    "```python\n",
    "# Exercise 2\n",
    "```\n",
    "\n",
    "---\n",
    "\n",
    "### Exercise 3:\n",
    "Create a string variable `name` with the value \"Python Programming\".\n",
    "\n",
    "```python\n",
    "# Exercise 3\n",
    "```\n",
    "\n",
    "---\n",
    "\n",
    "### Exercise 4:\n",
    "Assign the result of `5 + 3` to a variable `sum_result`.\n",
    "\n",
    "```python\n",
    "# Exercise 4\n",
    "```\n",
    "\n",
    "---\n",
    "\n",
    "### Exercise 5:\n",
    "Assign multiple variables in one line: `a = 5`, `b = 10`, `c = 15`.\n",
    "\n",
    "```python\n",
    "# Exercise 5\n",
    "```\n",
    "\n",
    "---\n",
    "\n",
    "### Exercise 6:\n",
    "Assign the value of one variable `x` to another variable `y`.\n",
    "\n",
    "```python\n",
    "# Exercise 6\n",
    "```\n",
    "\n",
    "---\n",
    "\n",
    "### Exercise 7:\n",
    "Assign a floating-point number `9.8` to a variable `gravity`.\n",
    "\n",
    "```python\n",
    "# Exercise 7\n",
    "```\n",
    "\n",
    "---\n",
    "\n",
    "### Exercise 8:\n",
    "Create a variable `country` and assign it the string value of your favorite country.\n",
    "\n",
    "```python\n",
    "# Exercise 8\n",
    "```\n",
    "\n",
    "---\n",
    "\n",
    "### Exercise 9:\n",
    "Change the value of variable `age` from `25` to `26` in two separate steps.\n",
    "\n",
    "```python\n",
    "# Exercise 9\n",
    "```\n",
    "\n",
    "---\n",
    "\n",
    "### Exercise 10:\n",
    "Use one variable to store the result of subtracting two numbers `20 - 7`.\n",
    "\n",
    "```python\n",
    "# Exercise 10\n",
    "```\n",
    "\n",
    "---\n",
    "\n",
    "### Exercise 11:\n",
    "Assign an integer value and a floating-point value to two different variables.\n",
    "\n",
    "```python\n",
    "# Exercise 11\n",
    "```\n",
    "\n",
    "---\n",
    "\n",
    "### Exercise 12:\n",
    "Assign a boolean value `False` to a variable `is_completed`.\n",
    "\n",
    "```python\n",
    "# Exercise 12\n",
    "```\n",
    "\n",
    "---\n",
    "\n",
    "### Exercise 13:\n",
    "Swap the values of two variables `x` and `y`.\n",
    "\n",
    "```python\n",
    "# Exercise 13\n",
    "```\n",
    "\n",
    "---\n",
    "\n",
    "### Exercise 14:\n",
    "Assign a complex number `3 + 4j` to a variable `complex_num`.\n",
    "\n",
    "```python\n",
    "# Exercise 14\n",
    "```\n",
    "\n",
    "---\n",
    "\n",
    "### Exercise 15:\n",
    "Reassign a variable from an integer to a string.\n",
    "\n",
    "```python\n",
    "# Exercise 15\n",
    "```\n",
    "\n",
    "---\n",
    "\n",
    "### Exercise 16:\n",
    "Create two variables `first_name` and `last_name`, and assign them your first and last names.\n",
    "\n",
    "```python\n",
    "# Exercise 16\n",
    "```\n",
    "\n",
    "---\n",
    "\n",
    "### Exercise 17:\n",
    "Create a variable `temperature` and assign it the value of `35.5`.\n",
    "\n",
    "```python\n",
    "# Exercise 17\n",
    "```\n",
    "\n",
    "---\n",
    "\n",
    "### Exercise 18:\n",
    "Assign the result of the multiplication of two numbers `8 * 6` to a variable `product`.\n",
    "\n",
    "```python\n",
    "# Exercise 18\n",
    "```\n",
    "\n",
    "---\n",
    "\n",
    "### Exercise 19:\n",
    "Assign a sentence of your choice to a variable `sentence`.\n",
    "\n",
    "```python\n",
    "# Exercise 19\n",
    "```\n",
    "\n",
    "---\n",
    "\n",
    "### Exercise 20:\n",
    "Use an assignment to convert a string `'50'` into an integer variable `int_value`.\n",
    "\n",
    "```python\n",
    "# Exercise 20\n",
    "```\n",
    "\n",
    "---\n",
    "\n",
    "### Exercise 21:\n",
    "Assign the result of dividing `144` by `12` to a variable `quotient`.\n",
    "\n",
    "```python\n",
    "# Exercise 21\n",
    "```\n",
    "\n",
    "---\n",
    "\n",
    "### Exercise 22:\n",
    "Assign the remainder of `47 divided by 5` to a variable `remainder`.\n",
    "\n",
    "```python\n",
    "# Exercise 22\n",
    "```\n",
    "\n",
    "---\n",
    "\n",
    "### Exercise 23:\n",
    "Create a variable `is_student` and assign it the value `True`.\n",
    "\n",
    "```python\n",
    "# Exercise 23\n",
    "```\n",
    "\n",
    "---\n",
    "\n",
    "### Exercise 24:\n",
    "Use a variable to store the result of a modulo operation: `45 % 4`.\n",
    "\n",
    "```python\n",
    "# Exercise 24\n",
    "```\n",
    "\n",
    "---\n",
    "\n",
    "### Exercise 25:\n",
    "Create a variable `pi` and assign it the value `3.14159`.\n",
    "\n",
    "```python\n",
    "# Exercise 25\n",
    "```\n",
    "\n",
    "---\n",
    "\n",
    "### Exercise 26:\n",
    "Create two variables `length` and `width`, assign them values, and calculate the area of a rectangle.\n",
    "\n",
    "```python\n",
    "# Exercise 26\n",
    "```\n",
    "\n",
    "---\n",
    "\n",
    "### Exercise 27:\n",
    "Assign a negative number to a variable `negative_value`.\n",
    "\n",
    "```python\n",
    "# Exercise 27\n",
    "```\n",
    "\n",
    "---\n",
    "\n",
    "### Exercise 28:\n",
    "Assign a string containing a special character (e.g., \"Hello, World!\") to a variable `greeting`.\n",
    "\n",
    "```python\n",
    "# Exercise 28\n",
    "```\n",
    "\n",
    "---\n",
    "\n",
    "### Exercise 29:\n",
    "Create a variable `population` and assign it a large integer value (in billions).\n",
    "\n",
    "```python\n",
    "# Exercise 29\n",
    "```\n",
    "\n",
    "---\n",
    "\n",
    "### Exercise 30:\n",
    "Use a variable to store the result of raising `2` to the power of `8`.\n",
    "\n",
    "```python\n",
    "# Exercise 30\n",
    "```\n",
    "\n",
    "---\n",
    "\n",
    "### Exercise 31:\n",
    "Assign a list of your favorite fruits to a variable `fruits`.\n",
    "\n",
    "```python\n",
    "# Exercise 31\n",
    "```\n",
    "\n",
    "---\n",
    "\n",
    "### Exercise 32:\n",
    "Assign a tuple of three numbers to a variable `coordinates`.\n",
    "\n",
    "```python\n",
    "# Exercise 32\n",
    "```\n",
    "\n",
    "---\n",
    "\n",
    "### Exercise 33:\n",
    "Assign a dictionary with keys `name` and `age` to a variable `person`.\n",
    "\n",
    "```python\n",
    "# Exercise 33\n",
    "```\n",
    "\n",
    "---\n",
    "\n",
    "### Exercise 34:\n",
    "Use variables to store the sum of two floating-point numbers.\n",
    "\n",
    "```python\n",
    "# Exercise 34\n",
    "```\n",
    "\n",
    "---\n",
    "\n",
    "### Exercise 35:\n",
    "Create a variable `is_sunny` and assign it the result of a comparison `10 > 5`.\n",
    "\n",
    "```python\n",
    "# Exercise 35\n",
    "```\n",
    "\n",
    "---\n",
    "\n",
    "### Exercise 36:\n",
    "Assign a string and an integer to two different variables, then print both on one line.\n",
    "\n",
    "```python\n",
    "# Exercise 36\n",
    "```\n",
    "\n",
    "---\n",
    "\n",
    "### Exercise 37:\n",
    "Reassign a variable that originally held a number to a boolean value.\n",
    "\n",
    "```python\n",
    "# Exercise 37\n",
    "```\n",
    "\n",
    "---\n",
    "\n",
    "### Exercise 38:\n",
    "Create a variable `is_weekend` and assign it the result of `False`.\n",
    "\n",
    "```python\n",
    "# Exercise 38\n",
    "```\n",
    "\n",
    "---\n",
    "\n",
    "### Exercise 39:\n",
    "Assign a multi-line string to a variable `description`.\n",
    "\n",
    "```python\n",
    "# Exercise 39\n",
    "```\n",
    "\n",
    "---\n",
    "\n",
    "### Exercise 40:\n",
    "Use variables to store the result of the absolute value of `-25`.\n",
    "\n",
    "```python\n",
    "# Exercise 40\n",
    "```\n",
    "\n",
    "---\n",
    "\n",
    "### Exercise 41:\n",
    "Assign the result of a floor division `100 // 6` to a variable `floor_div_result`.\n",
    "\n",
    "```python\n",
    "# Exercise 41\n",
    "```\n",
    "\n",
    "---\n",
    "\n",
    "### Exercise 42:\n",
    "Assign the result of adding a floating-point number to an integer to a variable `mixed_sum`.\n",
    "\n",
    "```python\n",
    "# Exercise 42\n",
    "```\n",
    "\n",
    "---\n",
    "\n",
    "### Exercise 43:\n",
    "Use variables to store a combination of string concatenation.\n",
    "\n",
    "```python\n",
    "# Exercise 43\n",
    "```\n",
    "\n",
    "---\n",
    "\n",
    "### Exercise 44:\n",
    "Assign an empty list to a variable `empty_list`.\n",
    "\n",
    "```python\n",
    "# Exercise 44\n",
    "```\n",
    "\n",
    "---\n",
    "\n",
    "### Exercise 45:\n",
    "Assign a boolean value based on the comparison of two variables `a = 10` and `b = 15`.\n",
    "\n",
    "```python\n",
    "# Exercise 45\n",
    "```\n",
    "\n",
    "---\n",
    "\n",
    "### Exercise 46:\n",
    "Assign a long sentence to a variable and count its characters using `len()`.\n",
    "\n",
    "```python\n",
    "# Exercise 46\n",
    "```\n",
    "\n",
    "---\n",
    "\n",
    "### Exercise 47:\n",
    "Assign a fractional result `7 / 3` to a variable `division_result`.\n",
    "\n",
    "```python\n",
    "# Exercise 47\n",
    "```\n",
    "\n",
    "---\n",
    "\n",
    "### Exercise 48:\n",
    "Create a variable `speed` and assign it the value of 100 kilometers per hour.\n",
    "\n",
    "```python\n",
    "# Exercise 48\n",
    "```\n",
    "\n",
    "---\n",
    "\n",
    "### Exercise 49:\n",
    "Assign a multi-variable equation like `y = 3x + 5` where `x = 4` to a variable `y`.\n",
    "\n",
    "```python\n",
    "# Exercise 49\n",
    "```\n",
    "\n",
    "---\n",
    "\n",
    "### Exercise 50:\n",
    "Use variables to calculate and store the average of three numbers.\n",
    "\n",
    "```python\n",
    "# Exercise 50\n",
    "```\n",
    "\n",
    "****"
   ]
  },
  {
   "cell_type": "code",
   "execution_count": 1,
   "id": "90edfecf-7f65-4a7a-8371-095676cf1b18",
   "metadata": {},
   "outputs": [
    {
     "data": {
      "text/plain": [
       "10"
      ]
     },
     "execution_count": 1,
     "metadata": {},
     "output_type": "execute_result"
    }
   ],
   "source": [
    "### Exercise 1:\n",
    "X=10\n",
    "X"
   ]
  },
  {
   "cell_type": "code",
   "execution_count": 2,
   "id": "ca90ac01-1e78-4ec7-b7d9-09fbf3c12d6a",
   "metadata": {},
   "outputs": [
    {
     "data": {
      "text/plain": [
       "True"
      ]
     },
     "execution_count": 2,
     "metadata": {},
     "output_type": "execute_result"
    }
   ],
   "source": [
    "### Exercise 2:\n",
    "is_valid= True\n",
    "is_valid"
   ]
  },
  {
   "cell_type": "code",
   "execution_count": 5,
   "id": "b708c380-b8f7-40a6-8a2b-28239467e003",
   "metadata": {},
   "outputs": [
    {
     "data": {
      "text/plain": [
       "'Python Programming'"
      ]
     },
     "execution_count": 5,
     "metadata": {},
     "output_type": "execute_result"
    }
   ],
   "source": [
    "### Exercise 3:\n",
    "name= \"Python Programming\"\n",
    "name"
   ]
  },
  {
   "cell_type": "code",
   "execution_count": 6,
   "id": "53c2ed57-310e-4cb3-b8be-3d9062be3977",
   "metadata": {},
   "outputs": [
    {
     "data": {
      "text/plain": [
       "8"
      ]
     },
     "execution_count": 6,
     "metadata": {},
     "output_type": "execute_result"
    }
   ],
   "source": [
    "### Exercise 4:\n",
    "sum_result= 5+3\n",
    "sum_result"
   ]
  },
  {
   "cell_type": "code",
   "execution_count": 10,
   "id": "6d9cc809-a63a-476f-b74c-f8b95e3822eb",
   "metadata": {},
   "outputs": [
    {
     "data": {
      "text/plain": [
       "10"
      ]
     },
     "execution_count": 10,
     "metadata": {},
     "output_type": "execute_result"
    }
   ],
   "source": [
    "### Exercise 5:\n",
    "a,b,c =  5,10,15\n",
    "b\n",
    "\n"
   ]
  },
  {
   "cell_type": "code",
   "execution_count": 11,
   "id": "ef165367-a1af-4ec4-b777-665f07e8493c",
   "metadata": {},
   "outputs": [
    {
     "data": {
      "text/plain": [
       "3"
      ]
     },
     "execution_count": 11,
     "metadata": {},
     "output_type": "execute_result"
    }
   ],
   "source": [
    "### Exercise 6:\n",
    "X=3\n",
    "Y=X\n",
    "Y"
   ]
  },
  {
   "cell_type": "code",
   "execution_count": 12,
   "id": "63f8c794-bf8d-4569-a5ba-9f8edd7f45c8",
   "metadata": {},
   "outputs": [
    {
     "data": {
      "text/plain": [
       "9.8"
      ]
     },
     "execution_count": 12,
     "metadata": {},
     "output_type": "execute_result"
    }
   ],
   "source": [
    "### Exercise 7:\n",
    "gravity=9.8\n",
    "gravity"
   ]
  },
  {
   "cell_type": "code",
   "execution_count": 14,
   "id": "c0e2e8d2-8a6e-4b43-9be0-66c4d32af73b",
   "metadata": {},
   "outputs": [
    {
     "data": {
      "text/plain": [
       "'RWANDA'"
      ]
     },
     "execution_count": 14,
     "metadata": {},
     "output_type": "execute_result"
    }
   ],
   "source": [
    "### Exercise 8:\n",
    "country= 'RWANDA'\n",
    "country"
   ]
  },
  {
   "cell_type": "code",
   "execution_count": 16,
   "id": "6af429b8-4a74-42ca-8385-2104042f3567",
   "metadata": {},
   "outputs": [
    {
     "data": {
      "text/plain": [
       "26"
      ]
     },
     "execution_count": 16,
     "metadata": {},
     "output_type": "execute_result"
    }
   ],
   "source": [
    "### Exercise 9:\n",
    "age =25 #Assigning age with its initial value\n",
    "age =26 #Assigning age now with the final value\n",
    "age"
   ]
  },
  {
   "cell_type": "code",
   "execution_count": 17,
   "id": "21ae51e6-3d36-4bb2-9ed0-632feada2315",
   "metadata": {},
   "outputs": [
    {
     "data": {
      "text/plain": [
       "13"
      ]
     },
     "execution_count": 17,
     "metadata": {},
     "output_type": "execute_result"
    }
   ],
   "source": [
    "### Exercise 10:\n",
    "#Use one variable to store the result of subtracting two numbers `20 - 7`.\n",
    "subtraction = 20-7\n",
    "subtraction"
   ]
  },
  {
   "cell_type": "code",
   "execution_count": 20,
   "id": "3c0bd45d-b4ec-480b-a2f0-3c48f3e99ae4",
   "metadata": {},
   "outputs": [
    {
     "data": {
      "text/plain": [
       "2.3"
      ]
     },
     "execution_count": 20,
     "metadata": {},
     "output_type": "execute_result"
    }
   ],
   "source": [
    "### Exercise 11:\n",
    "#Assign an integer value and a floating-point value to two different variables.\n",
    "integer =2\n",
    "float =2.3\n",
    "float"
   ]
  },
  {
   "cell_type": "code",
   "execution_count": 21,
   "id": "d60d57ea-72f3-40f6-a093-31d878f2d6d4",
   "metadata": {},
   "outputs": [
    {
     "data": {
      "text/plain": [
       "False"
      ]
     },
     "execution_count": 21,
     "metadata": {},
     "output_type": "execute_result"
    }
   ],
   "source": [
    "### Exercise 12:\n",
    "#Assign a boolean value `False` to a variable `is_completed`.\n",
    "is_completed = False\n",
    "is_completed"
   ]
  },
  {
   "cell_type": "code",
   "execution_count": 22,
   "id": "4f15de1c-73ce-438e-8929-64f90244ce9f",
   "metadata": {},
   "outputs": [
    {
     "data": {
      "text/plain": [
       "2"
      ]
     },
     "execution_count": 22,
     "metadata": {},
     "output_type": "execute_result"
    }
   ],
   "source": [
    "### Exercise 13:\n",
    "#Swap the values of two variables `x` and `y`.\n",
    "X =2\n",
    "Y= 3\n",
    "X,Y = Y,X\n",
    "Y"
   ]
  },
  {
   "cell_type": "code",
   "execution_count": 23,
   "id": "ed894365-05a5-4df1-899a-9c2672cafb97",
   "metadata": {},
   "outputs": [
    {
     "data": {
      "text/plain": [
       "(3+4j)"
      ]
     },
     "execution_count": 23,
     "metadata": {},
     "output_type": "execute_result"
    }
   ],
   "source": [
    "### Exercise 14:\n",
    "#Assign a complex number `3 + 4j` to a variable `complex_num`.\n",
    "complex_num = 3+4j\n",
    "complex_num"
   ]
  },
  {
   "cell_type": "code",
   "execution_count": 25,
   "id": "a1e4ef0c-d52a-42a0-8a2d-d99f5b6c8a5c",
   "metadata": {},
   "outputs": [
    {
     "data": {
      "text/plain": [
       "'Five'"
      ]
     },
     "execution_count": 25,
     "metadata": {},
     "output_type": "execute_result"
    }
   ],
   "source": [
    "### Exercise 15:\n",
    "#Reassign a variable from an integer to a string.\n",
    "X =5\n",
    "X =\"Five\"\n",
    "X"
   ]
  },
  {
   "cell_type": "code",
   "execution_count": 26,
   "id": "be6a2b3f-eabb-42c4-8b42-0ace51ce4ee9",
   "metadata": {},
   "outputs": [
    {
     "data": {
      "text/plain": [
       "'Iradukunda'"
      ]
     },
     "execution_count": 26,
     "metadata": {},
     "output_type": "execute_result"
    }
   ],
   "source": [
    "### Exercise 16:\n",
    "#Create two variables `first_name` and `last_name`, and assign them your first and last names.\n",
    "first_name = \"Natacha\"\n",
    "last_name = \"Iradukunda\"\n",
    "last_name"
   ]
  },
  {
   "cell_type": "code",
   "execution_count": 28,
   "id": "ea94f6c6-f423-4a2f-9309-f04451464b34",
   "metadata": {},
   "outputs": [
    {
     "data": {
      "text/plain": [
       "float"
      ]
     },
     "execution_count": 28,
     "metadata": {},
     "output_type": "execute_result"
    }
   ],
   "source": [
    "### Exercise 17:\n",
    "#Create a variable `temperature` and assign it the value of `35.5`.\n",
    "temperature = 35.5\n",
    "temperature\n",
    "type(temperature)"
   ]
  },
  {
   "cell_type": "code",
   "execution_count": 29,
   "id": "fe9646ef-f623-4edd-a703-3272e1648628",
   "metadata": {},
   "outputs": [
    {
     "data": {
      "text/plain": [
       "48"
      ]
     },
     "execution_count": 29,
     "metadata": {},
     "output_type": "execute_result"
    }
   ],
   "source": [
    "### Exercise 18:\n",
    "#Assign the result of the multiplication of two numbers `8 * 6` to a variable `product`.\n",
    "product = 8*6\n",
    "product"
   ]
  },
  {
   "cell_type": "code",
   "execution_count": 30,
   "id": "785b483b-766c-4f17-ad09-60fdcaa4687a",
   "metadata": {},
   "outputs": [
    {
     "data": {
      "text/plain": [
       "'This is my first sentence.'"
      ]
     },
     "execution_count": 30,
     "metadata": {},
     "output_type": "execute_result"
    }
   ],
   "source": [
    "### Exercise 19:\n",
    "#Assign a sentence of your choice to a variable `sentence`.\n",
    "sentence = \"This is my first sentence.\"\n",
    "sentence"
   ]
  },
  {
   "cell_type": "code",
   "execution_count": 32,
   "id": "70a522e4-61b7-403e-b282-2eae160a6dab",
   "metadata": {},
   "outputs": [
    {
     "data": {
      "text/plain": [
       "50"
      ]
     },
     "execution_count": 32,
     "metadata": {},
     "output_type": "execute_result"
    }
   ],
   "source": [
    "### Exercise 20:\n",
    "#Use an assignment to convert a string `'50'` into an integer variable `int_value`.\n",
    "int_value =\"50\" #this is a striing variable\n",
    "int_value = 50 # this is now an integer variable.\n",
    "int_value"
   ]
  },
  {
   "cell_type": "code",
   "execution_count": 33,
   "id": "5c989232-93d0-4fca-b3dc-388bf7e71059",
   "metadata": {},
   "outputs": [
    {
     "data": {
      "text/plain": [
       "12.0"
      ]
     },
     "execution_count": 33,
     "metadata": {},
     "output_type": "execute_result"
    }
   ],
   "source": [
    "### Exercise 21:\n",
    "#Assign the result of dividing `144` by `12` to a variable `quotient`.\n",
    "quotient = 144/12\n",
    "quotient"
   ]
  },
  {
   "cell_type": "code",
   "execution_count": 34,
   "id": "ef38b20c-fcff-4316-9144-dc343a857985",
   "metadata": {},
   "outputs": [
    {
     "data": {
      "text/plain": [
       "2"
      ]
     },
     "execution_count": 34,
     "metadata": {},
     "output_type": "execute_result"
    }
   ],
   "source": [
    "### Exercise 22:\n",
    "#Assign the remainder of `47 divided by 5` to a variable `remainder`.\n",
    "remainder = 47%5\n",
    "remainder"
   ]
  },
  {
   "cell_type": "code",
   "execution_count": 35,
   "id": "a4629841-9941-47f4-a9c5-70fa451b9063",
   "metadata": {},
   "outputs": [
    {
     "data": {
      "text/plain": [
       "'True'"
      ]
     },
     "execution_count": 35,
     "metadata": {},
     "output_type": "execute_result"
    }
   ],
   "source": [
    "### Exercise 23:\n",
    "#Create a variable `is_student` and assign it the value `True`.\n",
    "is_student = 'True'\n",
    "is_student"
   ]
  },
  {
   "cell_type": "code",
   "execution_count": 36,
   "id": "cd2b21f0-0955-4095-a761-8d783d05ec42",
   "metadata": {},
   "outputs": [
    {
     "data": {
      "text/plain": [
       "1"
      ]
     },
     "execution_count": 36,
     "metadata": {},
     "output_type": "execute_result"
    }
   ],
   "source": [
    "### Exercise 24:\n",
    "#Use a variable to store the result of a modulo operation: `45 % 4`.\n",
    "modulo =45%4\n",
    "modulo"
   ]
  },
  {
   "cell_type": "code",
   "execution_count": 37,
   "id": "efbe078e-0907-4792-805d-5e90f56a42e3",
   "metadata": {},
   "outputs": [
    {
     "data": {
      "text/plain": [
       "3.14159"
      ]
     },
     "execution_count": 37,
     "metadata": {},
     "output_type": "execute_result"
    }
   ],
   "source": [
    "### Exercise 25:\n",
    "#Create a variable `pi` and assign it the value `3.14159`.\n",
    "pi = 3.14159\n",
    "pi"
   ]
  },
  {
   "cell_type": "code",
   "execution_count": 39,
   "id": "e0ccf168-1107-4213-a592-81a363c954ad",
   "metadata": {},
   "outputs": [
    {
     "data": {
      "text/plain": [
       "20"
      ]
     },
     "execution_count": 39,
     "metadata": {},
     "output_type": "execute_result"
    }
   ],
   "source": [
    "### Exercise 26:\n",
    "#Create two variables `length` and `width`, assign them values, and calculate the area of a rectangle.\n",
    "length = 4\n",
    "width = 5\n",
    "area_of_rectangle =length*width\n",
    "area_of_rectangle"
   ]
  },
  {
   "cell_type": "code",
   "execution_count": 40,
   "id": "27210616-6d4c-40ed-82c2-1aa240bffe69",
   "metadata": {},
   "outputs": [
    {
     "data": {
      "text/plain": [
       "-2"
      ]
     },
     "execution_count": 40,
     "metadata": {},
     "output_type": "execute_result"
    }
   ],
   "source": [
    "### Exercise 27:\n",
    "#Assign a negative number to a variable `negative_value`.\n",
    "negative_value = -2\n",
    "negative_value"
   ]
  },
  {
   "cell_type": "code",
   "execution_count": 41,
   "id": "878ebb7f-9c8b-4816-82eb-5a924abc9220",
   "metadata": {},
   "outputs": [
    {
     "data": {
      "text/plain": [
       "\"I'm Natacha, but you can call me Naty!\""
      ]
     },
     "execution_count": 41,
     "metadata": {},
     "output_type": "execute_result"
    }
   ],
   "source": [
    "### Exercise 28:\n",
    "#Assign a string containing a special character (e.g., \"Hello, World!\") to a variable `greeting`.\n",
    "greeting =\"I'm Natacha, but you can call me Naty!\"\n",
    "greeting"
   ]
  },
  {
   "cell_type": "code",
   "execution_count": 45,
   "id": "97984eae-7034-4869-adac-59471142c4c8",
   "metadata": {},
   "outputs": [
    {
     "data": {
      "text/plain": [
       "123456789"
      ]
     },
     "execution_count": 45,
     "metadata": {},
     "output_type": "execute_result"
    }
   ],
   "source": [
    "### Exercise 29:\n",
    "#Create a variable `population` and assign it a large integer value (in billions).\n",
    "population = 10,000,000,000 # Here if we print this value, it will give us (10, 0, 0, 0)\n",
    "population = 123456789\n",
    "population"
   ]
  },
  {
   "cell_type": "code",
   "execution_count": 46,
   "id": "e684383f-b5d2-43c1-8b3c-49d88b4caa01",
   "metadata": {},
   "outputs": [
    {
     "data": {
      "text/plain": [
       "256"
      ]
     },
     "execution_count": 46,
     "metadata": {},
     "output_type": "execute_result"
    }
   ],
   "source": [
    "### Exercise 30:\n",
    "#Use a variable to store the result of raising `2` to the power of `8`.\n",
    "Power = 2**8\n",
    "Power"
   ]
  },
  {
   "cell_type": "code",
   "execution_count": 51,
   "id": "918a3139-deb9-46a7-a940-da7228fb0cac",
   "metadata": {},
   "outputs": [
    {
     "data": {
      "text/plain": [
       "['banana', 'pineaple', 'mango', 'orange', 'aple']"
      ]
     },
     "execution_count": 51,
     "metadata": {},
     "output_type": "execute_result"
    }
   ],
   "source": [
    "### Exercise 31:\n",
    "#Assign a list of your favorite fruits to a variable `fruits`.\n",
    "fruits = ['banana' ,'pineaple' ,'mango' ,'orange' ,'aple']\n",
    "fruits"
   ]
  },
  {
   "cell_type": "code",
   "execution_count": 53,
   "id": "dd8d2889-ddcc-4803-9d75-ff0c26f0cb55",
   "metadata": {},
   "outputs": [
    {
     "data": {
      "text/plain": [
       "tuple"
      ]
     },
     "execution_count": 53,
     "metadata": {},
     "output_type": "execute_result"
    }
   ],
   "source": [
    "### Exercise 32:\n",
    "#Assign a tuple of three numbers to a variable `coordinates`.\n",
    "coordinates = (1,2,3)\n",
    "coordinates"
   ]
  },
  {
   "cell_type": "code",
   "execution_count": 57,
   "id": "d0024de3-b31c-42b0-8504-3951698755a9",
   "metadata": {},
   "outputs": [
    {
     "data": {
      "text/plain": [
       "{'name': 'Naty', 'age': '20'}"
      ]
     },
     "execution_count": 57,
     "metadata": {},
     "output_type": "execute_result"
    }
   ],
   "source": [
    "### Exercise 33:\n",
    "#Assign a dictionary with keys `name` and `age` to a variable `person`.\n",
    "person = {'name':'Naty','age':'20'}\n",
    "person"
   ]
  },
  {
   "cell_type": "code",
   "execution_count": 60,
   "id": "c3b6cb70-d4ad-425c-997d-712822530630",
   "metadata": {},
   "outputs": [
    {
     "data": {
      "text/plain": [
       "6.0"
      ]
     },
     "execution_count": 60,
     "metadata": {},
     "output_type": "execute_result"
    }
   ],
   "source": [
    "### Exercise 34:\n",
    "#Use variables to store the sum of two floating-point numbers.\n",
    "X= 2.5\n",
    "Y= 3.5\n",
    "sum= X+Y\n",
    "sum"
   ]
  },
  {
   "cell_type": "code",
   "execution_count": 61,
   "id": "0d0860b2-93bf-4bff-a6f5-08da858d1deb",
   "metadata": {},
   "outputs": [
    {
     "data": {
      "text/plain": [
       "True"
      ]
     },
     "execution_count": 61,
     "metadata": {},
     "output_type": "execute_result"
    }
   ],
   "source": [
    "### Exercise 35:\n",
    "#Create a variable `is_sunny` and assign it the result of a comparison `10 > 5`.\n",
    "is_sunny = 10>5\n",
    "is_sunny"
   ]
  },
  {
   "cell_type": "code",
   "execution_count": 63,
   "id": "c86fab4c-20a4-4b24-a2f9-bf024a262701",
   "metadata": {},
   "outputs": [
    {
     "data": {
      "text/plain": [
       "(8, 'Walker')"
      ]
     },
     "execution_count": 63,
     "metadata": {},
     "output_type": "execute_result"
    }
   ],
   "source": [
    "### Exercise 36:\n",
    "#Assign a string and an integer to two different variables, then print both on one line.\n",
    "integer =8\n",
    "string = 'Walker'\n",
    "integer,string"
   ]
  },
  {
   "cell_type": "code",
   "execution_count": 64,
   "id": "aff3f749-f2d3-4098-a3e5-279f906ce6e4",
   "metadata": {},
   "outputs": [
    {
     "data": {
      "text/plain": [
       "True"
      ]
     },
     "execution_count": 64,
     "metadata": {},
     "output_type": "execute_result"
    }
   ],
   "source": [
    "### Exercise 37:\n",
    "#Reassign a variable that originally held a number to a boolean value.\n",
    "x=5 #Here our variable x was an integer of value 5\n",
    "x = x>2 # But here we made our variable to a booleann value\n",
    "x"
   ]
  },
  {
   "cell_type": "code",
   "execution_count": 65,
   "id": "3bb99f9f-f268-4a22-bc38-62bc1b4b4930",
   "metadata": {},
   "outputs": [
    {
     "data": {
      "text/plain": [
       "False"
      ]
     },
     "execution_count": 65,
     "metadata": {},
     "output_type": "execute_result"
    }
   ],
   "source": [
    "### Exercise 38:\n",
    "#Create a variable `is_weekend` and assign it the result of `False`.\n",
    "is_weekend = False\n",
    "is_weekend"
   ]
  },
  {
   "cell_type": "code",
   "execution_count": 68,
   "id": "f63df7dd-0ef5-429a-84a1-3580e01c9a64",
   "metadata": {},
   "outputs": [
    {
     "data": {
      "text/plain": [
       "'This is a sentence which shows\\nhow we can write a multi line in our python codes. \\nthis make python simple and friendly to use!!'"
      ]
     },
     "execution_count": 68,
     "metadata": {},
     "output_type": "execute_result"
    }
   ],
   "source": [
    "### Exercise 39:\n",
    "#Assign a multi-line string to a variable `description`.\n",
    "description = '''This is a sentence which shows\n",
    "how we can write a multi line in our python codes. \n",
    "this make python simple and friendly to use!!'''\n",
    "description"
   ]
  },
  {
   "cell_type": "code",
   "execution_count": 69,
   "id": "2eafc9f5-5362-44ba-bc92-a4eb4b5d480a",
   "metadata": {},
   "outputs": [
    {
     "data": {
      "text/plain": [
       "25"
      ]
     },
     "execution_count": 69,
     "metadata": {},
     "output_type": "execute_result"
    }
   ],
   "source": [
    "### Exercise 40:\n",
    "#Use variables to store the result of the absolute value of `-25`.\n",
    "absolute = abs(-25)\n",
    "absolute"
   ]
  },
  {
   "cell_type": "code",
   "execution_count": 70,
   "id": "e58f5bf1-5c9f-400b-8de7-7b355f18a885",
   "metadata": {},
   "outputs": [
    {
     "data": {
      "text/plain": [
       "16"
      ]
     },
     "execution_count": 70,
     "metadata": {},
     "output_type": "execute_result"
    }
   ],
   "source": [
    "### Exercise 41:\n",
    "#Assign the result of a floor division `100 // 6` to a variable `floor_div_result`.\n",
    "floor_div_result = 100//6\n",
    "floor_div_result"
   ]
  },
  {
   "cell_type": "code",
   "execution_count": 72,
   "id": "407e4672-a4fa-43ce-ac53-6b9c3f287d6f",
   "metadata": {},
   "outputs": [
    {
     "data": {
      "text/plain": [
       "5"
      ]
     },
     "execution_count": 72,
     "metadata": {},
     "output_type": "execute_result"
    }
   ],
   "source": [
    "### Exercise 42:\n",
    "#Assign the result of adding a floating-point number to an integer to a variable `mixed_sum`.\n",
    "x= 2.3\n",
    "y= 3.2\n",
    "mixed_sum = x+y # By printing this we get a floating result of 5.5\n",
    "mixed_sum =int(x+y) # But printing this we now get only an integer\n",
    "mixed_sum"
   ]
  },
  {
   "cell_type": "code",
   "execution_count": 78,
   "id": "0d4325e0-8c42-4f1a-b14a-46733ffadd77",
   "metadata": {},
   "outputs": [
    {
     "data": {
      "text/plain": [
       "'AlanWalker'"
      ]
     },
     "execution_count": 78,
     "metadata": {},
     "output_type": "execute_result"
    }
   ],
   "source": [
    "### Exercise 43:\n",
    "#Use variables to store a combination of string concatenation.\n",
    "First = 'Alan'\n",
    "Second = 'Walker'\n",
    "Whole_name = First + Second\n",
    "Whole_name"
   ]
  },
  {
   "cell_type": "code",
   "execution_count": 79,
   "id": "13981612-908b-4f3f-a5e7-2548b666b8b3",
   "metadata": {},
   "outputs": [
    {
     "data": {
      "text/plain": [
       "[]"
      ]
     },
     "execution_count": 79,
     "metadata": {},
     "output_type": "execute_result"
    }
   ],
   "source": [
    "### Exercise 44:\n",
    "#Assign an empty list to a variable `empty_list`.\n",
    "empty_list = [ ]\n",
    "empty_list"
   ]
  },
  {
   "cell_type": "code",
   "execution_count": 82,
   "id": "c293ce45-7537-4c72-97f7-b0b7cf587563",
   "metadata": {},
   "outputs": [
    {
     "data": {
      "text/plain": [
       "True"
      ]
     },
     "execution_count": 82,
     "metadata": {},
     "output_type": "execute_result"
    }
   ],
   "source": [
    "### Exercise 45:\n",
    "#Assign a boolean value based on the comparison of two variables `a = 10` and `b = 15`.\n",
    "a=10\n",
    "b=15\n",
    "Comparision = a>b # Here we are checking if a is greater than b and this will return False\n",
    "Comparision = a<b # Here we are checking if a is less than b and this will return True\n",
    "Comparision = a==b # Here we are checking if a is equal to b and this will return False\n",
    "Comparision = a!=b # Here we are checking if a is not equal to b and this will return True \n",
    "# We can also reverse these operations and we keep on seeing changes as a boolean value.\n",
    "Comparision"
   ]
  },
  {
   "cell_type": "code",
   "execution_count": 83,
   "id": "39e1debd-c419-447f-8d45-221fea8ab3ab",
   "metadata": {},
   "outputs": [
    {
     "data": {
      "text/plain": [
       "64"
      ]
     },
     "execution_count": 83,
     "metadata": {},
     "output_type": "execute_result"
    }
   ],
   "source": [
    "### Exercise 46:\n",
    "#Assign a long sentence to a variable and count its characters using `len()`.\n",
    "a = 'This is my long string that i am writing for counting the length'\n",
    "len(a)"
   ]
  },
  {
   "cell_type": "code",
   "execution_count": 84,
   "id": "57a61d89-0f74-4964-ab25-10fde5d2f1b3",
   "metadata": {},
   "outputs": [
    {
     "data": {
      "text/plain": [
       "2.3333333333333335"
      ]
     },
     "execution_count": 84,
     "metadata": {},
     "output_type": "execute_result"
    }
   ],
   "source": [
    "### Exercise 47:\n",
    "#Assign a fractional result `7 / 3` to a variable `division_result`.\n",
    "division_result = 7/3\n",
    "division_result"
   ]
  },
  {
   "cell_type": "code",
   "execution_count": 87,
   "id": "69ab491d-65fe-49c6-bbbb-2afc6694c952",
   "metadata": {},
   "outputs": [
    {
     "data": {
      "text/plain": [
       "100"
      ]
     },
     "execution_count": 87,
     "metadata": {},
     "output_type": "execute_result"
    }
   ],
   "source": [
    "### Exercise 48:\n",
    "#Create a variable `speed` and assign it the value of 100 kilometers per hour.\n",
    "# We can assign this as a string or as an integer. let's start assigning speed as a string it will print out '100 km/hr'\n",
    "speed = 100 #km/hr\n",
    "speed\n",
    "# Whereby when we print it as an integer, the units will stay as comments like this shown below and won't be displayed"
   ]
  },
  {
   "cell_type": "code",
   "execution_count": 89,
   "id": "938cb729-6eea-4288-9980-7cdbe737735e",
   "metadata": {},
   "outputs": [
    {
     "data": {
      "text/plain": [
       "17"
      ]
     },
     "execution_count": 89,
     "metadata": {},
     "output_type": "execute_result"
    }
   ],
   "source": [
    "### Exercise 49:\n",
    "#Assign a multi-variable equation like `y = 3x + 5` where `x = 4` to a variable `y`.\n",
    "x=4\n",
    "y=3*x + 5\n",
    "y"
   ]
  },
  {
   "cell_type": "code",
   "execution_count": 95,
   "id": "933d861d-9952-41a4-ac39-b69732797f19",
   "metadata": {},
   "outputs": [
    {
     "data": {
      "text/plain": [
       "6.0"
      ]
     },
     "execution_count": 95,
     "metadata": {},
     "output_type": "execute_result"
    }
   ],
   "source": [
    "### Exercise 50:\n",
    "#Use variables to calculate and store the average of three numbers.\n",
    "x =3\n",
    "y = 6\n",
    "z = 9\n",
    "average = (x+y+z ) /3\n",
    "average"
   ]
  },
  {
   "cell_type": "code",
   "execution_count": null,
   "id": "efde8b42-1e74-43bf-8a68-5189cf085f86",
   "metadata": {},
   "outputs": [],
   "source": []
  },
  {
   "cell_type": "code",
   "execution_count": null,
   "id": "643b6623-5e07-48d9-8270-a250510fa48f",
   "metadata": {},
   "outputs": [],
   "source": []
  }
 ],
 "metadata": {
  "kernelspec": {
   "display_name": "Python 3 (ipykernel)",
   "language": "python",
   "name": "python3"
  },
  "language_info": {
   "codemirror_mode": {
    "name": "ipython",
    "version": 3
   },
   "file_extension": ".py",
   "mimetype": "text/x-python",
   "name": "python",
   "nbconvert_exporter": "python",
   "pygments_lexer": "ipython3",
   "version": "3.11.7"
  }
 },
 "nbformat": 4,
 "nbformat_minor": 5
}
